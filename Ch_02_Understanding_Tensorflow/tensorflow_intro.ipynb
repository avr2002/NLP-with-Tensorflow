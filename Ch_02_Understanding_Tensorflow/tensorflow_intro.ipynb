{
 "cells": [
  {
   "cell_type": "markdown",
   "id": "c7f55f54-3116-44ea-bd90-a40378902399",
   "metadata": {},
   "source": [
    "***Reference:***\n",
    "\n",
    "***Ganegedara, Thushan. Natural Language Processing with TensorFlow: The definitive NLP book to implement the most sought-after machine learning models and tasks, 2nd Edition. Packt Publishing.***"
   ]
  },
  {
   "cell_type": "markdown",
   "id": "b32d2d94-bf3e-4cbc-87ba-6e7bc2faa797",
   "metadata": {},
   "source": [
    "# Chapter 2: Introduction to TensorFlow"
   ]
  },
  {
   "cell_type": "markdown",
   "id": "4a30a867-27a9-447e-926a-7aa3d21fd1e9",
   "metadata": {
    "jp-MarkdownHeadingCollapsed": true,
    "tags": []
   },
   "source": [
    "## Imports"
   ]
  },
  {
   "cell_type": "code",
   "execution_count": 1,
   "id": "7b86f927-c18a-4c1c-8df6-314d18bb3965",
   "metadata": {
    "execution": {
     "iopub.execute_input": "2023-06-20T02:48:29.198941Z",
     "iopub.status.busy": "2023-06-20T02:48:29.198941Z",
     "iopub.status.idle": "2023-06-20T02:48:32.560346Z",
     "shell.execute_reply": "2023-06-20T02:48:32.560346Z",
     "shell.execute_reply.started": "2023-06-20T02:48:29.198941Z"
    },
    "tags": []
   },
   "outputs": [
    {
     "name": "stdout",
     "output_type": "stream",
     "text": [
      "TensorFlow version => 2.10.1\n"
     ]
    }
   ],
   "source": [
    "import tensorflow as tf\n",
    "import tensorflow.keras.backend as K\n",
    "\n",
    "# Making sure we have the correct TF version\n",
    "print(f\"TensorFlow version => {tf.__version__}\")\n",
    "\n",
    "# gpus = tf.config.experimental.list_physical_devices('GPU')\n",
    "# if gpus:\n",
    "#     try:\n",
    "#         # Currently, memory growth needs to be the same across GPUs\n",
    "#         for gpu in gpus:\n",
    "#             tf.config.experimental.set_memory_growth(gpu, True)\n",
    "#     except Exception as ex:        \n",
    "#         print(\"Couldn't set memory_growth\")\n",
    "#         pass\n",
    "    \n",
    "import numpy as np\n",
    "import os\n",
    "import matplotlib.pyplot as plt\n",
    "# Config the matplotlib backend as plotting inline in IPython\n",
    "%matplotlib inline"
   ]
  },
  {
   "cell_type": "code",
   "execution_count": 2,
   "id": "91ba7f65-bf4f-4a96-b735-60375aacdcc1",
   "metadata": {
    "execution": {
     "iopub.execute_input": "2023-06-20T02:48:32.560346Z",
     "iopub.status.busy": "2023-06-20T02:48:32.560346Z",
     "iopub.status.idle": "2023-06-20T02:48:32.668237Z",
     "shell.execute_reply": "2023-06-20T02:48:32.667216Z",
     "shell.execute_reply.started": "2023-06-20T02:48:32.560346Z"
    },
    "tags": []
   },
   "outputs": [
    {
     "data": {
      "text/plain": [
       "[PhysicalDevice(name='/physical_device:CPU:0', device_type='CPU'),\n",
       " PhysicalDevice(name='/physical_device:GPU:0', device_type='GPU')]"
      ]
     },
     "execution_count": 2,
     "metadata": {},
     "output_type": "execute_result"
    }
   ],
   "source": [
    "tf.config.experimental.list_physical_devices()"
   ]
  },
  {
   "cell_type": "markdown",
   "id": "f412f01f-eccb-439d-aec8-1f35d9b87609",
   "metadata": {
    "jp-MarkdownHeadingCollapsed": true,
    "tags": []
   },
   "source": [
    "## 1. Using `@tf.function`"
   ]
  },
  {
   "cell_type": "markdown",
   "id": "c1d081f2-0ebb-485b-a5fd-4ae63230b8cc",
   "metadata": {},
   "source": [
    "Creating a simple function to calculate: $$h = sigmoid(W \\cdot x + b)$$ where $W$ and $x$ are matrices and $b$ is a vector. $$sigmoid(x) = \\frac{1}{1 + e^{-x}}$$"
   ]
  },
  {
   "cell_type": "code",
   "execution_count": 5,
   "id": "43f566a1-2051-4aa4-9c29-3110d658caea",
   "metadata": {
    "execution": {
     "iopub.execute_input": "2023-06-14T08:59:59.606257Z",
     "iopub.status.busy": "2023-06-14T08:59:59.606257Z",
     "iopub.status.idle": "2023-06-14T08:59:59.620627Z",
     "shell.execute_reply": "2023-06-14T08:59:59.619621Z",
     "shell.execute_reply.started": "2023-06-14T08:59:59.606257Z"
    },
    "tags": []
   },
   "outputs": [],
   "source": [
    "@tf.function\n",
    "def layer(x, W, b):\n",
    "    # Building a graph\n",
    "    h = tf.nn.sigmoid(tf.matmul(x, W) + b) # Operation to perform\n",
    "    return h"
   ]
  },
  {
   "cell_type": "markdown",
   "id": "122a45d7-5f6b-4a40-b8e1-ed04d7717250",
   "metadata": {},
   "source": [
    "- `@tf.function` is a [decorator](https://youtu.be/FsAPt_9Bf3U).\n",
    "\n",
    "    - In simple words, a Python decorator is just another function. Whenever `layer()` function is called, `tf.function()` is called.\n",
    "\n",
    "    - When the `layer()` function is passing through `tf.function()`, TensorFlow will trace the content (in other words, the operations and data) in the function and build a **computational graph** automatically. \n",
    "\n",
    "    - The computational graph (also known as the dataflow graph) builds a **DAG (a directed acyclic graph)** that shows what kind of inputs are required, and what sort of computations need to be done in the program. The feature that builds this computational graph automatically in tensorflow is known as **AutoGraph**.\n",
    "\n",
    "- [The purpose of using `@tf.function` is to have better performance](https://www.tensorflow.org/guide/function).\n",
    "\n",
    "- In above example, the `layer()` function produces `h` using `x, W, b` with some operations such as `+` and `tf.matmul()`:\n",
    "<div align=\"center\">\n",
    "    <img src=\"images/DAG.png\"/>\n",
    "</div>    "
   ]
  },
  {
   "cell_type": "code",
   "execution_count": 6,
   "id": "fb0b859e-6ca8-41a3-bb3a-32dc8cbf9c7e",
   "metadata": {
    "execution": {
     "iopub.execute_input": "2023-06-14T09:00:00.103557Z",
     "iopub.status.busy": "2023-06-14T09:00:00.103557Z",
     "iopub.status.idle": "2023-06-14T09:00:01.640450Z",
     "shell.execute_reply": "2023-06-14T09:00:01.640450Z",
     "shell.execute_reply.started": "2023-06-14T09:00:00.103557Z"
    },
    "tags": []
   },
   "outputs": [
    {
     "name": "stdout",
     "output_type": "stream",
     "text": [
      "h = [[0.51644903 0.50727916 0.4990346  0.47398546 0.49519628]]\n"
     ]
    }
   ],
   "source": [
    "x = np.array([[0, 0.1, 0.2, 0.3, 0.4, 0.5, 0.6, 0.7, 0.8, 0.9]], dtype=np.float32) \n",
    "\n",
    "# Variable\n",
    "init_w = tf.initializers.RandomUniform(minval=-0.1, maxval=0.1)(shape=[10,5])\n",
    "W = tf.Variable(init_w, dtype=tf.float32, name='W') \n",
    "\n",
    "# Variable\n",
    "init_b = tf.initializers.RandomUniform()(shape=[5])\n",
    "b = tf.Variable(init_b, dtype=tf.float32, name='b') \n",
    "\n",
    "h = layer(x,W,b)\n",
    "print(f\"h = {h}\")"
   ]
  },
  {
   "cell_type": "code",
   "execution_count": 9,
   "id": "5e261dc2-526a-4cc7-99f1-dcf7ceb0f2c9",
   "metadata": {
    "execution": {
     "iopub.execute_input": "2023-06-14T09:00:35.668240Z",
     "iopub.status.busy": "2023-06-14T09:00:35.668240Z",
     "iopub.status.idle": "2023-06-14T09:00:35.675282Z",
     "shell.execute_reply": "2023-06-14T09:00:35.675282Z",
     "shell.execute_reply.started": "2023-06-14T09:00:35.668240Z"
    },
    "tags": []
   },
   "outputs": [
    {
     "data": {
      "text/plain": [
       "((1, 10), TensorShape([10, 5]), TensorShape([5]))"
      ]
     },
     "execution_count": 9,
     "metadata": {},
     "output_type": "execute_result"
    }
   ],
   "source": [
    "x.shape, W.shape, b.shape "
   ]
  },
  {
   "cell_type": "code",
   "execution_count": 10,
   "id": "6fcc91d5-9182-414e-bbe9-27bb23028de3",
   "metadata": {
    "execution": {
     "iopub.execute_input": "2023-06-14T08:03:22.871536Z",
     "iopub.status.busy": "2023-06-14T08:03:22.871536Z",
     "iopub.status.idle": "2023-06-14T08:03:22.880494Z",
     "shell.execute_reply": "2023-06-14T08:03:22.879494Z",
     "shell.execute_reply.started": "2023-06-14T08:03:22.871536Z"
    },
    "tags": []
   },
   "outputs": [
    {
     "data": {
      "text/plain": [
       "(tensorflow.python.ops.resource_variable_ops.ResourceVariable,\n",
       " tensorflow.python.framework.ops.EagerTensor,\n",
       " tensorflow.python.framework.ops.EagerTensor)"
      ]
     },
     "execution_count": 10,
     "metadata": {},
     "output_type": "execute_result"
    }
   ],
   "source": [
    "type(W), type(h), type(init_w)"
   ]
  },
  {
   "cell_type": "markdown",
   "id": "6faa0375-651d-47b5-b19a-961c8812ae41",
   "metadata": {},
   "source": [
    "As you can already see, defining a TensorFlow computational graph and executing that is very “Pythonic”. This is because TensorFlow executes its operations “eagerly”, or immediately after the layer() function is called. This is a special mode in TensorFlow known as eager execution mode. This was an optional mode for TensorFlow 1, but has been made the default in TensorFlow 2."
   ]
  },
  {
   "cell_type": "markdown",
   "id": "85dc74d3-e162-4280-8d28-9888d94445db",
   "metadata": {},
   "source": [
    "### What happens when you call a function decorated by `tf.function()` ?\n",
    "\n",
    "**It first builds a dataflow graph and executes it.**\n",
    "\n",
    "For e.g. in sigmoid case, the graph look like this:\n",
    "\n",
    "<div align=\"center\">\n",
    "    <img src=\"images/DAG.png\"/>\n",
    "</div>   \n",
    "\n",
    "A single element or vertex of the graph is called a **node**. There are two main types of objects in this graph: **operations and tensors**. In the preceding example, `tf.nn.sigmoid` is an operation and `h` is a tensor."
   ]
  },
  {
   "cell_type": "markdown",
   "id": "05139434-e2cd-4115-a472-f0ba52bd1d3e",
   "metadata": {
    "jp-MarkdownHeadingCollapsed": true,
    "tags": []
   },
   "source": [
    "## 2. `tf.data` API"
   ]
  },
  {
   "cell_type": "code",
   "execution_count": 11,
   "id": "674739ca-2eef-4923-b7a3-6d8bbac9c139",
   "metadata": {
    "execution": {
     "iopub.execute_input": "2023-06-14T09:44:24.001653Z",
     "iopub.status.busy": "2023-06-14T09:44:24.001653Z",
     "iopub.status.idle": "2023-06-14T09:44:24.016291Z",
     "shell.execute_reply": "2023-06-14T09:44:24.015239Z",
     "shell.execute_reply.started": "2023-06-14T09:44:24.001653Z"
    }
   },
   "outputs": [],
   "source": [
    "import tensorflow as tf\n",
    "import numpy as np"
   ]
  },
  {
   "cell_type": "code",
   "execution_count": 14,
   "id": "54f3409d-1351-4b6d-a877-b64ba3a8c6c8",
   "metadata": {
    "execution": {
     "iopub.execute_input": "2023-06-14T09:47:29.614531Z",
     "iopub.status.busy": "2023-06-14T09:47:29.614531Z",
     "iopub.status.idle": "2023-06-14T09:47:29.630872Z",
     "shell.execute_reply": "2023-06-14T09:47:29.630872Z",
     "shell.execute_reply.started": "2023-06-14T09:47:29.614531Z"
    },
    "tags": []
   },
   "outputs": [
    {
     "data": {
      "text/plain": [
       "['data/iris.data.1', 'data/iris.data.2', 'data/iris.data.3']"
      ]
     },
     "execution_count": 14,
     "metadata": {},
     "output_type": "execute_result"
    }
   ],
   "source": [
    "filenames = [f\"data/iris.data.{i}\" for i in range(1,4)]\n",
    "filenames"
   ]
  },
  {
   "cell_type": "code",
   "execution_count": 33,
   "id": "373f3944-ebb9-44e6-9cbb-fa4d82ae92ba",
   "metadata": {
    "execution": {
     "iopub.execute_input": "2023-06-14T10:01:40.505011Z",
     "iopub.status.busy": "2023-06-14T10:01:40.503504Z",
     "iopub.status.idle": "2023-06-14T10:01:40.522257Z",
     "shell.execute_reply": "2023-06-14T10:01:40.522257Z",
     "shell.execute_reply.started": "2023-06-14T10:01:40.505011Z"
    },
    "tags": []
   },
   "outputs": [],
   "source": [
    "# dataset reader in tf, that takes list of file names and list of respective data-types\n",
    "dataset = tf.data.experimental.CsvDataset(filenames, [tf.float32, tf.float32, tf.float32, tf.float32, tf.string])\n",
    "\n",
    "# organise our data into input and labels\n",
    "dataset = dataset.map(lambda x1,x2,x3,x4,y: (tf.stack([x1,x2,x3,x4]), y))"
   ]
  },
  {
   "cell_type": "code",
   "execution_count": 34,
   "id": "06b8889d-b327-4e3b-9966-174a332d6c86",
   "metadata": {
    "execution": {
     "iopub.execute_input": "2023-06-14T10:01:41.569120Z",
     "iopub.status.busy": "2023-06-14T10:01:41.568121Z",
     "iopub.status.idle": "2023-06-14T10:01:41.586102Z",
     "shell.execute_reply": "2023-06-14T10:01:41.585594Z",
     "shell.execute_reply.started": "2023-06-14T10:01:41.569120Z"
    },
    "tags": []
   },
   "outputs": [
    {
     "name": "stdout",
     "output_type": "stream",
     "text": [
      "tf.Tensor([5.1 3.5 1.4 0.2], shape=(4,), dtype=float32) tf.Tensor(b'Iris-setosa', shape=(), dtype=string)\n"
     ]
    }
   ],
   "source": [
    "for i in dataset:\n",
    "    print(i[0], i[1])\n",
    "    break"
   ]
  },
  {
   "cell_type": "code",
   "execution_count": 35,
   "id": "fd82d17b-f2f6-4d02-a14a-196809882b94",
   "metadata": {
    "execution": {
     "iopub.execute_input": "2023-06-14T10:01:42.038705Z",
     "iopub.status.busy": "2023-06-14T10:01:42.038705Z",
     "iopub.status.idle": "2023-06-14T10:01:42.054146Z",
     "shell.execute_reply": "2023-06-14T10:01:42.054146Z",
     "shell.execute_reply.started": "2023-06-14T10:01:42.038705Z"
    },
    "tags": []
   },
   "outputs": [
    {
     "name": "stdout",
     "output_type": "stream",
     "text": [
      "[5.1 3.5 1.4 0.2] b'Iris-setosa'\n"
     ]
    }
   ],
   "source": [
    "for i in dataset:\n",
    "    print(i[0].numpy(), i[1].numpy())\n",
    "    break"
   ]
  },
  {
   "cell_type": "code",
   "execution_count": 36,
   "id": "9394d03f-19f8-485a-b267-130178f612bc",
   "metadata": {
    "execution": {
     "iopub.execute_input": "2023-06-14T10:01:55.007617Z",
     "iopub.status.busy": "2023-06-14T10:01:55.006616Z",
     "iopub.status.idle": "2023-06-14T10:01:55.065322Z",
     "shell.execute_reply": "2023-06-14T10:01:55.064301Z",
     "shell.execute_reply.started": "2023-06-14T10:01:55.007617Z"
    },
    "tags": []
   },
   "outputs": [
    {
     "name": "stdout",
     "output_type": "stream",
     "text": [
      "(Corrupted) X => [ 5.8 -4.   1.2  0.2]\tY => Iris-setosa\n",
      "(Corrupted) X => [ 4.6  3.6 -1.   0.2]\tY => Iris-setosa\n",
      "(Corrupted) X => [ 4.7 -3.2  1.6  0.2]\tY => Iris-setosa\n",
      "(Corrupted) X => [-5.   3.5  1.3  0.3]\tY => Iris-setosa\n",
      "(Corrupted) X => [-5.1  3.8  1.6  0.2]\tY => Iris-setosa\n",
      "(Corrupted) X => [ 6.9 -3.1  4.9  1.5]\tY => Iris-versicolor\n",
      "(Corrupted) X => [-5.2  2.7  3.9  1.4]\tY => Iris-versicolor\n",
      "(Corrupted) X => [ 5.8  2.7  4.1 -1. ]\tY => Iris-versicolor\n",
      "(Corrupted) X => [ 6.1 -2.8  4.7  1.2]\tY => Iris-versicolor\n",
      "(Corrupted) X => [ 5.4  3.  -4.5  1.5]\tY => Iris-versicolor\n",
      "(Corrupted) X => [ 7.1 -3.   5.9  2.1]\tY => Iris-virginica\n",
      "(Corrupted) X => [ 5.7  2.5  5.  -2. ]\tY => Iris-virginica\n",
      "(Corrupted) X => [-6.   2.2  5.   1.5]\tY => Iris-virginica\n",
      "(Corrupted) X => [ 7.2 -3.2  6.   1.8]\tY => Iris-virginica\n",
      "(Corrupted) X => [ 6.1  2.6  5.6 -1.4]\tY => Iris-virginica\n"
     ]
    }
   ],
   "source": [
    "# iterate through the dataset to check for corrupted items\n",
    "for next_element in dataset:\n",
    "    x, y = next_element[0].numpy(), next_element[1].numpy().decode('ascii')\n",
    "    if np.min(x) < 0.0:\n",
    "        print(f\"(Corrupted) X => {x}\\tY => {y}\")"
   ]
  },
  {
   "cell_type": "markdown",
   "id": "e4177c4f-633e-44e1-8ade-3cfc025561db",
   "metadata": {
    "jp-MarkdownHeadingCollapsed": true,
    "tags": []
   },
   "source": [
    "### Filtering all the corrupted rows\n",
    "Here we will use the `dataset.filter()` function to filter out any corrupted inputs"
   ]
  },
  {
   "cell_type": "code",
   "execution_count": 37,
   "id": "ccde11a2-722f-4316-8e94-4b6a2fe5b420",
   "metadata": {
    "execution": {
     "iopub.execute_input": "2023-06-14T10:01:55.502832Z",
     "iopub.status.busy": "2023-06-14T10:01:55.502832Z",
     "iopub.status.idle": "2023-06-14T10:01:55.517420Z",
     "shell.execute_reply": "2023-06-14T10:01:55.517420Z",
     "shell.execute_reply.started": "2023-06-14T10:01:55.502832Z"
    },
    "tags": []
   },
   "outputs": [],
   "source": [
    "dataset = dataset.filter(lambda x,y: tf.reduce_min(x)>0)"
   ]
  },
  {
   "cell_type": "code",
   "execution_count": 38,
   "id": "93f07c6e-047c-4037-97ab-f00b8afff19e",
   "metadata": {
    "execution": {
     "iopub.execute_input": "2023-06-14T10:01:55.839759Z",
     "iopub.status.busy": "2023-06-14T10:01:55.839759Z",
     "iopub.status.idle": "2023-06-14T10:01:55.913027Z",
     "shell.execute_reply": "2023-06-14T10:01:55.912027Z",
     "shell.execute_reply.started": "2023-06-14T10:01:55.839759Z"
    },
    "tags": []
   },
   "outputs": [
    {
     "name": "stdout",
     "output_type": "stream",
     "text": [
      "No corrupted items detected\n"
     ]
    }
   ],
   "source": [
    "# Iterating the dataset\n",
    "no_corrupt = True\n",
    "for next_element in dataset:\n",
    "    x, y = next_element[0].numpy(), next_element[1].numpy()\n",
    "    if np.any(x<0.0):\n",
    "        print(\"Aha! Detected a corrupted item: \", next_element[0].numpy())\n",
    "        no_corrupt = False\n",
    "\n",
    "if no_corrupt:\n",
    "    print(\"No corrupted items detected\")"
   ]
  },
  {
   "cell_type": "markdown",
   "id": "a7608346-9181-49dc-a97e-5441a6bfa66d",
   "metadata": {
    "jp-MarkdownHeadingCollapsed": true,
    "tags": []
   },
   "source": [
    "### Iterating the dataset in batches\n",
    "One of the most common behaviors when training a model is to iterate through the dataset in batches, while training or predicting using a model. The `dataset.batch()` function provides a convenient way to do so. Here you can see that we are using a `batch_size` of `5` and getting 5 rows of data at a time during iterations."
   ]
  },
  {
   "cell_type": "code",
   "execution_count": 39,
   "id": "1157bf15-7e17-479f-8ee5-8f03ac0b7c78",
   "metadata": {
    "execution": {
     "iopub.execute_input": "2023-06-14T10:01:56.613604Z",
     "iopub.status.busy": "2023-06-14T10:01:56.613604Z",
     "iopub.status.idle": "2023-06-14T10:01:56.647320Z",
     "shell.execute_reply": "2023-06-14T10:01:56.647320Z",
     "shell.execute_reply.started": "2023-06-14T10:01:56.613604Z"
    },
    "scrolled": true,
    "tags": []
   },
   "outputs": [
    {
     "name": "stdout",
     "output_type": "stream",
     "text": [
      "x.shape = (5, 4), y.shape = (5,)\n",
      "x.shape = (5, 4), y.shape = (5,)\n",
      "x.shape = (5, 4), y.shape = (5,)\n",
      "x.shape = (5, 4), y.shape = (5,)\n",
      "x.shape = (5, 4), y.shape = (5,)\n",
      "x.shape = (5, 4), y.shape = (5,)\n",
      "x.shape = (5, 4), y.shape = (5,)\n",
      "x.shape = (5, 4), y.shape = (5,)\n",
      "x.shape = (5, 4), y.shape = (5,)\n",
      "x.shape = (5, 4), y.shape = (5,)\n",
      "x.shape = (5, 4), y.shape = (5,)\n",
      "x.shape = (5, 4), y.shape = (5,)\n",
      "x.shape = (5, 4), y.shape = (5,)\n",
      "x.shape = (5, 4), y.shape = (5,)\n",
      "x.shape = (5, 4), y.shape = (5,)\n",
      "x.shape = (5, 4), y.shape = (5,)\n",
      "x.shape = (5, 4), y.shape = (5,)\n",
      "x.shape = (5, 4), y.shape = (5,)\n",
      "x.shape = (5, 4), y.shape = (5,)\n",
      "x.shape = (5, 4), y.shape = (5,)\n",
      "x.shape = (5, 4), y.shape = (5,)\n",
      "x.shape = (5, 4), y.shape = (5,)\n",
      "x.shape = (5, 4), y.shape = (5,)\n",
      "x.shape = (5, 4), y.shape = (5,)\n",
      "x.shape = (5, 4), y.shape = (5,)\n",
      "x.shape = (5, 4), y.shape = (5,)\n",
      "x.shape = (5, 4), y.shape = (5,)\n",
      "x.shape = (1, 4), y.shape = (1,)\n"
     ]
    }
   ],
   "source": [
    "batch_size = 5\n",
    "dataset = dataset.batch(batch_size=batch_size)\n",
    "\n",
    "for next_element in dataset:\n",
    "    x, y = next_element[0].numpy(), next_element[1].numpy()\n",
    "    print(f\"x.shape = {x.shape}, y.shape = {y.shape}\")"
   ]
  },
  {
   "cell_type": "markdown",
   "id": "eed8d417-9c87-4eb2-96ae-e31a0d257bf5",
   "metadata": {
    "jp-MarkdownHeadingCollapsed": true,
    "tags": []
   },
   "source": [
    "### Converting class labels to class IDs\n",
    "You have seen that, `y` here in fact is a `string`. However we need to convert this to a class ID (or an Integer) in order to use `y` to train a model. **For that you can create a lookup table using the `tf.lookup.StaticVocabularyTable` object.**"
   ]
  },
  {
   "cell_type": "code",
   "execution_count": 40,
   "id": "817564d4-bbb4-4a02-af20-d5e91580a998",
   "metadata": {
    "execution": {
     "iopub.execute_input": "2023-06-14T10:04:18.638877Z",
     "iopub.status.busy": "2023-06-14T10:04:18.638877Z",
     "iopub.status.idle": "2023-06-14T10:04:18.797213Z",
     "shell.execute_reply": "2023-06-14T10:04:18.797213Z",
     "shell.execute_reply.started": "2023-06-14T10:04:18.638877Z"
    }
   },
   "outputs": [
    {
     "name": "stdout",
     "output_type": "stream",
     "text": [
      "(corrupted) X => [ 5.8 -4.   1.2  0.2]\tY => 0\n",
      "(corrupted) X => [ 4.6  3.6 -1.   0.2]\tY => 0\n",
      "(corrupted) X => [ 4.7 -3.2  1.6  0.2]\tY => 0\n",
      "(corrupted) X => [-5.   3.5  1.3  0.3]\tY => 0\n",
      "(corrupted) X => [-5.1  3.8  1.6  0.2]\tY => 0\n",
      "(corrupted) X => [ 6.9 -3.1  4.9  1.5]\tY => 1\n",
      "(corrupted) X => [-5.2  2.7  3.9  1.4]\tY => 1\n",
      "(corrupted) X => [ 5.8  2.7  4.1 -1. ]\tY => 1\n",
      "(corrupted) X => [ 6.1 -2.8  4.7  1.2]\tY => 1\n",
      "(corrupted) X => [ 5.4  3.  -4.5  1.5]\tY => 1\n",
      "(corrupted) X => [ 7.1 -3.   5.9  2.1]\tY => 2\n",
      "(corrupted) X => [ 5.7  2.5  5.  -2. ]\tY => 2\n",
      "(corrupted) X => [-6.   2.2  5.   1.5]\tY => 2\n",
      "(corrupted) X => [ 7.2 -3.2  6.   1.8]\tY => 2\n",
      "(corrupted) X => [ 6.1  2.6  5.6 -1.4]\tY => 2\n"
     ]
    }
   ],
   "source": [
    "# The filename queue\n",
    "filenames = [f\"data/iris.data.{i}\" for i in range(1,4)]\n",
    "\n",
    "# Defining a dataset object that accepts CSV type data\n",
    "dataset = tf.data.experimental.CsvDataset(\n",
    "    filenames, [tf.float32, tf.float32, tf.float32, tf.float32, tf.string])\n",
    "\n",
    "# X will be the first 4 columns in the CSV file\n",
    "x_dataset = dataset.map(lambda x1,x2,x3,x4,y: (x1,x2,x3,x4))\n",
    "\n",
    "# Converting the string label to an integer\n",
    "table = tf.lookup.StaticVocabularyTable(\n",
    "    tf.lookup.KeyValueTensorInitializer(\n",
    "        [b'Iris-setosa', b'Iris-versicolor', b'Iris-virginica'],\n",
    "        tf.constant([0,1,2], dtype=tf.int64)),\n",
    "    num_oov_buckets=1\n",
    ")\n",
    "\n",
    "# Creating the Y dataset as class labels\n",
    "y_dataset = dataset.map(lambda x1,x2,x3,x4,y: table.lookup(y))\n",
    "\n",
    "# Combining the X and Y datasets\n",
    "dataset = dataset.zip((x_dataset,y_dataset))\n",
    "# Columns of x are shown as a list of tensors, \n",
    "# instead we would like to have a single tensor with all columns\n",
    "dataset = dataset.map(lambda x,y: (tf.stack(x),y))\n",
    "\n",
    "for next_element in dataset:\n",
    "    x, y = next_element[0].numpy(), next_element[1].numpy()\n",
    "    if np.min(x)<0.0:\n",
    "        print(f\"(corrupted) X => {x}\\tY => {y}\")"
   ]
  },
  {
   "cell_type": "markdown",
   "id": "3d549f6c-47e2-4232-983f-9d86826787b3",
   "metadata": {
    "jp-MarkdownHeadingCollapsed": true,
    "tags": []
   },
   "source": [
    "## 3. Operations in Tensorflow"
   ]
  },
  {
   "cell_type": "markdown",
   "id": "ea0a32a3-8300-41ef-ab8a-14957d1e933e",
   "metadata": {
    "jp-MarkdownHeadingCollapsed": true,
    "tags": []
   },
   "source": [
    "### 3.1 Comparison Operators"
   ]
  },
  {
   "cell_type": "code",
   "execution_count": 3,
   "id": "f67f1e2e-c79f-45af-b5df-8e5cfb882ccb",
   "metadata": {
    "execution": {
     "iopub.execute_input": "2023-06-19T08:07:47.872201Z",
     "iopub.status.busy": "2023-06-19T08:07:47.872201Z",
     "iopub.status.idle": "2023-06-19T08:07:48.772972Z",
     "shell.execute_reply": "2023-06-19T08:07:48.772467Z",
     "shell.execute_reply.started": "2023-06-19T08:07:47.872201Z"
    }
   },
   "outputs": [],
   "source": [
    "x = tf.constant([[1,2],[3,4]], dtype=tf.int32) # 2D-tensor\n",
    "y = tf.constant([[4,3],[3,2]])"
   ]
  },
  {
   "cell_type": "code",
   "execution_count": 6,
   "id": "d8115afd-ca64-4946-b829-d250256f6cd1",
   "metadata": {
    "execution": {
     "iopub.execute_input": "2023-06-19T08:08:39.786586Z",
     "iopub.status.busy": "2023-06-19T08:08:39.785575Z",
     "iopub.status.idle": "2023-06-19T08:08:39.796390Z",
     "shell.execute_reply": "2023-06-19T08:08:39.795390Z",
     "shell.execute_reply.started": "2023-06-19T08:08:39.786586Z"
    },
    "tags": []
   },
   "outputs": [
    {
     "data": {
      "text/plain": [
       "(<tf.Tensor: shape=(2, 2), dtype=int32, numpy=\n",
       " array([[1, 2],\n",
       "        [3, 4]])>,\n",
       " <tf.Tensor: shape=(2, 2), dtype=int32, numpy=\n",
       " array([[4, 3],\n",
       "        [3, 2]])>)"
      ]
     },
     "execution_count": 6,
     "metadata": {},
     "output_type": "execute_result"
    }
   ],
   "source": [
    "x, y"
   ]
  },
  {
   "cell_type": "code",
   "execution_count": 9,
   "id": "7c2534df-8dca-4aeb-82c1-cb088fad6009",
   "metadata": {
    "execution": {
     "iopub.execute_input": "2023-06-19T08:10:30.226295Z",
     "iopub.status.busy": "2023-06-19T08:10:30.225280Z",
     "iopub.status.idle": "2023-06-19T08:10:30.258387Z",
     "shell.execute_reply": "2023-06-19T08:10:30.257341Z",
     "shell.execute_reply.started": "2023-06-19T08:10:30.226295Z"
    },
    "tags": []
   },
   "outputs": [
    {
     "name": "stdout",
     "output_type": "stream",
     "text": [
      "Is X == Y (element-wise)?\n",
      "[[False False]\n",
      " [ True False]]\n",
      "\n",
      "Is X < Y (element-wise)?\n",
      "[[ True  True]\n",
      " [False False]]\n",
      "\n",
      "Is X >= Y (element-wise)?\n",
      "[[False False]\n",
      " [ True  True]]\n"
     ]
    }
   ],
   "source": [
    "# Checks if two tensors are equal element-wise and returns a boolean tensor\n",
    "# x_equal_y => [[False,False],[True,False]]\n",
    "x_equal_y = tf.equal(x, y, name=None) \n",
    "\n",
    "# Checks if x is less than y element-wise and returns a boolean tensor\n",
    "# x_less_y => [[True,True],[True,False]]\n",
    "x_less_y = tf.less(x, y, name=None) \n",
    "\n",
    "# Checks if x is greater or equal than y element-wise and returns a boolean tensor\n",
    "# x_great_equal_y => [[False,False],[True,True]]\n",
    "x_great_equal_y = tf.greater_equal(x, y, name=None) \n",
    "\n",
    "\n",
    "print('Is X == Y (element-wise)?')\n",
    "print(x_equal_y.numpy())\n",
    "\n",
    "print('\\nIs X < Y (element-wise)?')\n",
    "print(x_less_y.numpy())\n",
    "\n",
    "print('\\nIs X >= Y (element-wise)?')\n",
    "print(x_great_equal_y.numpy())"
   ]
  },
  {
   "cell_type": "code",
   "execution_count": 13,
   "id": "698e0f8b-6b39-4683-9342-a55eeb9c0868",
   "metadata": {
    "execution": {
     "iopub.execute_input": "2023-06-19T08:11:21.387809Z",
     "iopub.status.busy": "2023-06-19T08:11:21.387304Z",
     "iopub.status.idle": "2023-06-19T08:11:21.406027Z",
     "shell.execute_reply": "2023-06-19T08:11:21.404804Z",
     "shell.execute_reply.started": "2023-06-19T08:11:21.387809Z"
    },
    "tags": []
   },
   "outputs": [
    {
     "name": "stdout",
     "output_type": "stream",
     "text": [
      "x: tf.Tensor(\n",
      "[[1 2]\n",
      " [3 4]], shape=(2, 2), dtype=int32) y: tf.Tensor(\n",
      "[[4 3]\n",
      " [3 2]], shape=(2, 2), dtype=int32) \n",
      "\n",
      "X or Y depending on the condition (element-wise)\n",
      "[[1 3]\n",
      " [3 2]]\n"
     ]
    }
   ],
   "source": [
    "# Selects elements from x and y depending on whether,\n",
    "# the condition is satisfied (select elements from x)\n",
    "# or the condition failed (select elements from y)\n",
    "condition = tf.constant([[True,False],[True,False]],dtype=tf.bool)\n",
    "# x_cond_y => [[1,3],[3,2]]\n",
    "x_cond_y = tf.where(condition, x, y, name=None) \n",
    "\n",
    "print(\"x:\", x, \"y:\", y, \"\\n\")\n",
    "print('X or Y depending on the condition (element-wise)')\n",
    "print(x_cond_y.numpy())"
   ]
  },
  {
   "cell_type": "markdown",
   "id": "97b7cb83-45e4-49c9-9dcd-a3c4bd326783",
   "metadata": {
    "jp-MarkdownHeadingCollapsed": true,
    "tags": []
   },
   "source": [
    "### 3.2 Mathematical Operations"
   ]
  },
  {
   "cell_type": "code",
   "execution_count": 19,
   "id": "be56e3b1-b2b3-4429-8555-747cd14a7c40",
   "metadata": {
    "execution": {
     "iopub.execute_input": "2023-06-19T08:17:22.664975Z",
     "iopub.status.busy": "2023-06-19T08:17:22.663976Z",
     "iopub.status.idle": "2023-06-19T08:17:22.690927Z",
     "shell.execute_reply": "2023-06-19T08:17:22.689928Z",
     "shell.execute_reply.started": "2023-06-19T08:17:22.664975Z"
    },
    "tags": []
   },
   "outputs": [
    {
     "name": "stdout",
     "output_type": "stream",
     "text": [
      "X + Y\n",
      "[[5. 5.]\n",
      " [6. 6.]]\n",
      "\n",
      " XY\n",
      "[[10.  7.]\n",
      " [24. 17.]]\n",
      "\n",
      " log(x)\n",
      "[[0.        0.6931472]\n",
      " [1.0986123 1.3862944]]\n",
      "\n",
      " X sum over axis 1\n",
      "[3. 7.]\n",
      "\n",
      " X sum over axis 0\n",
      "[4. 6.]\n"
     ]
    }
   ],
   "source": [
    "x = tf.constant([[1,2],[3,4]], dtype=tf.float32)\n",
    "y = tf.constant([[4,3],[3,2]], dtype=tf.float32)\n",
    "\n",
    "# Add two tensors x and y in an element-wise fashion\n",
    "# x_add_y => [[5,5],[6,6]]\n",
    "x_add_y_1 = tf.add(x, y)\n",
    "x_add_y_2 = x + y\n",
    "\n",
    "# Performs matrix multiplication (not element-wise)\n",
    "# x_mul_y => [[10,7],[24,17]]\n",
    "x_mul_y = tf.matmul(x, y) \n",
    "\n",
    "# Compute natural logarithm of x element-wise\n",
    "# equivalent to computing ln(x)\n",
    "ln_x = tf.math.log(x) # natural log\n",
    "\n",
    "# Performs reduction operation across the specified axis\n",
    "# x_sum_1 => [3,7]\n",
    "x_sum_1 = tf.reduce_sum(x, axis=1, keepdims=False) # column-wise\n",
    "\n",
    "# x_sum_2 => [[4],[6]]\n",
    "x_sum_2 = tf.reduce_sum(x, axis=[0]) # row-wise\n",
    "\n",
    "\n",
    "print('X + Y')\n",
    "print(x_add_y_1.numpy())\n",
    "print('\\n XY')\n",
    "print(x_mul_y.numpy())\n",
    "print('\\n log(x)')\n",
    "print(ln_x.numpy())\n",
    "print('\\n X sum over axis 1')\n",
    "print(x_sum_1.numpy())\n",
    "print('\\n X sum over axis 0')\n",
    "print(x_sum_2.numpy())"
   ]
  },
  {
   "cell_type": "code",
   "execution_count": 23,
   "id": "8430e10d-629c-4cfa-9a9f-e848bcf1a27e",
   "metadata": {
    "execution": {
     "iopub.execute_input": "2023-06-19T08:18:39.005341Z",
     "iopub.status.busy": "2023-06-19T08:18:39.005341Z",
     "iopub.status.idle": "2023-06-19T08:18:39.022329Z",
     "shell.execute_reply": "2023-06-19T08:18:39.021233Z",
     "shell.execute_reply.started": "2023-06-19T08:18:39.005341Z"
    },
    "tags": []
   },
   "outputs": [
    {
     "data": {
      "text/plain": [
       "<tf.Tensor: shape=(10,), dtype=int32, numpy=array([ 1,  2,  3,  4,  5,  6,  7,  8,  9, 10])>"
      ]
     },
     "execution_count": 23,
     "metadata": {},
     "output_type": "execute_result"
    }
   ],
   "source": [
    "# Segments the tensor according to segment_ids (items with same id in\n",
    "# the same segment) and computes a segmented sum of the data\n",
    "\n",
    "data = tf.constant(np.arange(1,11))\n",
    "data"
   ]
  },
  {
   "cell_type": "code",
   "execution_count": 25,
   "id": "2d3abdbb-947d-46c4-94a4-cb4000d21cbd",
   "metadata": {
    "execution": {
     "iopub.execute_input": "2023-06-19T08:19:55.782573Z",
     "iopub.status.busy": "2023-06-19T08:19:55.782573Z",
     "iopub.status.idle": "2023-06-19T08:19:55.806162Z",
     "shell.execute_reply": "2023-06-19T08:19:55.804955Z",
     "shell.execute_reply.started": "2023-06-19T08:19:55.782573Z"
    },
    "tags": []
   },
   "outputs": [
    {
     "name": "stdout",
     "output_type": "stream",
     "text": [
      "Segemented sum of a vector\n",
      "[ 6  9 40]\n"
     ]
    }
   ],
   "source": [
    "segment_ids = tf.constant([0,0,0,1,1,2,2,2,2,2 ], dtype=tf.int32)\n",
    "\n",
    "# x_seg_sum => [6,9,40]\n",
    "x_seg_sum = tf.math.segment_sum(data, segment_ids)\n",
    "\n",
    "print('Segemented sum of a vector')\n",
    "print(x_seg_sum.numpy())\n",
    "\n",
    "# it's basically:\n",
    "# [ 1+2+3],  [4+5],  [6+7+8+9+10] ]"
   ]
  },
  {
   "cell_type": "markdown",
   "id": "b0a35ef5-b644-4364-83a3-e0fdd0ebca5c",
   "metadata": {
    "jp-MarkdownHeadingCollapsed": true,
    "tags": []
   },
   "source": [
    "### 3.3 Scatter Operation \n",
    "\n",
    "Scatter operation refers to using indexing or slicing to change the values in a tensor."
   ]
  },
  {
   "cell_type": "code",
   "execution_count": 32,
   "id": "633a3956-95b2-4a48-9500-861f724ffc43",
   "metadata": {
    "execution": {
     "iopub.execute_input": "2023-06-19T08:28:30.017586Z",
     "iopub.status.busy": "2023-06-19T08:28:30.017586Z",
     "iopub.status.idle": "2023-06-19T08:28:30.045425Z",
     "shell.execute_reply": "2023-06-19T08:28:30.044424Z",
     "shell.execute_reply.started": "2023-06-19T08:28:30.017586Z"
    },
    "tags": []
   },
   "outputs": [
    {
     "name": "stdout",
     "output_type": "stream",
     "text": [
      "v:\n",
      "[[ 1.  9.]\n",
      " [ 3. 10.]\n",
      " [ 5. 11.]]\n",
      "\n",
      "ref (after changing row=0)\n",
      " [[-1. -9.]\n",
      " [ 3. 10.]\n",
      " [ 5. 11.]]\n",
      "\n",
      "ref (after changing row=1, col=1)\n",
      " [[  1.   9.]\n",
      " [  3. -10.]\n",
      " [  5.  11.]]\n",
      "\n",
      "ref (after changing row=1:, col=0)\n",
      " [[ 1.  9.]\n",
      " [-3. 10.]\n",
      " [-5. 11.]]\n"
     ]
    }
   ],
   "source": [
    "v = tf.Variable(tf.constant([[1,9],[3,10],[5,11]], dtype=tf.float32), name='ref')\n",
    "\n",
    "print(\"v:\\n%s\"%v.numpy())\n",
    "\n",
    "# Changing the 0th row in v\n",
    "v[0].assign([-1,-9])\n",
    "print('\\nref (after changing row=0)\\n', v.numpy())\n",
    "\n",
    "v = tf.Variable(tf.constant([[1,9],[3,10],[5,11]],dtype=tf.float32),name='ref')\n",
    "# Changing the value at 1st row, 1st column in v\n",
    "v[1,1].assign(-10)\n",
    "print('\\nref (after changing row=1, col=1)\\n', v.numpy())\n",
    "\n",
    "v = tf.Variable(tf.constant([[1,9],[3,10],[5,11]],dtype=tf.float32),name='ref')\n",
    "# Changing the values of rows starting from 1st to end in 0th column of v\n",
    "v[1:,0].assign([-3,-5])\n",
    "print('\\nref (after changing row=1:, col=0)\\n', v.numpy())"
   ]
  },
  {
   "cell_type": "markdown",
   "id": "59f2953b-fe2d-43de-aba1-5052b1c57d80",
   "metadata": {
    "jp-MarkdownHeadingCollapsed": true,
    "tags": []
   },
   "source": [
    "### 3.4 Gather Operation\n",
    "Gather operation refers to using indexing or slicing to retrieve values in a tensor."
   ]
  },
  {
   "cell_type": "code",
   "execution_count": 35,
   "id": "2c4ada05-5a41-4b48-8e1a-2f9a5a9c77c6",
   "metadata": {
    "execution": {
     "iopub.execute_input": "2023-06-19T08:30:09.779430Z",
     "iopub.status.busy": "2023-06-19T08:30:09.779430Z",
     "iopub.status.idle": "2023-06-19T08:30:09.793536Z",
     "shell.execute_reply": "2023-06-19T08:30:09.793536Z",
     "shell.execute_reply.started": "2023-06-19T08:30:09.779430Z"
    },
    "tags": []
   },
   "outputs": [
    {
     "name": "stdout",
     "output_type": "stream",
     "text": [
      "t:\n",
      "[[ 1.  9.]\n",
      " [ 3. 10.]\n",
      " [ 5. 11.]]\n",
      "\n",
      "t[0] = [1. 9.]\n",
      "t[1,1] = 10.0\n",
      "t[1:,0] = [3. 5.]\n"
     ]
    }
   ],
   "source": [
    "t = tf.constant([[1,9],[3,10],[5,11]],dtype=tf.float32)\n",
    "\n",
    "print(\"t:\\n%s\\n\"%t.numpy())\n",
    "\n",
    "# Getting the 0th row in v\n",
    "print('t[0] =',t[0].numpy())\n",
    "\n",
    "# Getting the value at 1st row, 1st column in v\n",
    "print('t[1,1] =',t[1,1].numpy())\n",
    "\n",
    "# Getting the values of rows starting from 1st to end in 0th column of v\n",
    "print('t[1:,0] =',t[1:,0].numpy())"
   ]
  },
  {
   "cell_type": "markdown",
   "id": "21407658-433f-42d9-be1d-1d3b1d034755",
   "metadata": {},
   "source": [
    "> **Note:** `tf.Tensor`/`tf.EagerTensor` are **immutable** objects."
   ]
  },
  {
   "cell_type": "markdown",
   "id": "aa861fc9-714c-4582-8f5b-cd74ed701ff7",
   "metadata": {
    "jp-MarkdownHeadingCollapsed": true,
    "tags": []
   },
   "source": [
    "## 4. Neural Network Related Operations"
   ]
  },
  {
   "cell_type": "markdown",
   "id": "49bcf36f-705c-447d-8fc2-ecf245adb557",
   "metadata": {
    "jp-MarkdownHeadingCollapsed": true,
    "tags": []
   },
   "source": [
    "### 4.1 Non-Linear Activations in NNs "
   ]
  },
  {
   "cell_type": "markdown",
   "id": "26da5dc5-f39a-4a4e-b6d6-841901ee0c62",
   "metadata": {},
   "source": [
    "- Typically there is a non-linear activation/transformation(i.e. activation layer) after each layer o/p in a neural network(NN), except the last layer. This helps NN to learn complex pattern(often non-linear) in real world data.\n",
    "\n",
    "- Without non-linear activation layers, a DNN would be a bunch of linear layers stacked together, which can be compressed to a single big linear layer. \n",
    "\n",
    "- In conclusion, if not for the nonlinear activations, we cannot create a neural network with more than one layer.\n",
    "\n",
    "- E.g.:\n",
    "\n",
    "    1. Above sigmoid example without b can be written as: `h = sigmoid(W*x)`\n",
    "    \n",
    "    2. assume we have 3 layers(having weights `W1`,`W2`,`W3`) where each layer does the preceding computation; the full computation can be summarized as:\n",
    "    `h = sigmoid(W3*sigmoid(W2*sigmoid(W1*x)))`\n",
    "    \n",
    "    3. however, if we remove the non-linear activation, we get this:\n",
    "    `h = (W3 *   (W2 *   (W1 * x))) = (W3*W2*W2*x)`\n",
    "    \n",
    "    4. So, without the nonlinear activations, the three layers can be brought down to a single linear layer.\n",
    "\n",
    "- Two common non-linear activation function:\n",
    "    - **Sigmoid:** `tf.nn.sigmoid(x, name=None)`\n",
    "    - **ReLU:** `tf.nn.relu(x, name=None)`"
   ]
  },
  {
   "cell_type": "code",
   "execution_count": 69,
   "id": "ac88ba5e-4d1f-4856-9fd2-380c3e505dd3",
   "metadata": {
    "execution": {
     "iopub.execute_input": "2023-06-19T09:57:53.225928Z",
     "iopub.status.busy": "2023-06-19T09:57:53.224928Z",
     "iopub.status.idle": "2023-06-19T09:57:53.508035Z",
     "shell.execute_reply": "2023-06-19T09:57:53.507029Z",
     "shell.execute_reply.started": "2023-06-19T09:57:53.225928Z"
    },
    "tags": []
   },
   "outputs": [
    {
     "data": {
      "image/png": "[encoded data removed]",
      "text/plain": [
       "<Figure size 1300x500 with 2 Axes>"
      ]
     },
     "metadata": {},
     "output_type": "display_data"
    }
   ],
   "source": [
    "x = tf.constant(np.arange(-10,11), dtype=tf.float32)\n",
    "\n",
    "plt.figure(figsize=(13,5))\n",
    "plt.subplot(1,2,1)\n",
    "plt.plot(x, tf.nn.sigmoid(x), linewidth=3)\n",
    "plt.grid()\n",
    "plt.title(\"Sigmoid: $\\sigma(x) = 1/{1 + e^{-x}}$\")\n",
    "\n",
    "# plt.figure(figsize=(6,6))\n",
    "plt.subplot(1,2,2)\n",
    "plt.plot(x, tf.nn.relu(x), linewidth=3)\n",
    "plt.grid(which='both')\n",
    "plt.title(\"ReLU: $R(z) = max(0,x)$\")\n",
    "\n",
    "plt.show();"
   ]
  },
  {
   "cell_type": "markdown",
   "id": "6aa0a55f-27e0-4eaf-a397-b262444a6cb4",
   "metadata": {
    "jp-MarkdownHeadingCollapsed": true,
    "tags": []
   },
   "source": [
    "### 4.2 Convulational Operation"
   ]
  },
  {
   "cell_type": "markdown",
   "id": "72d9567c-7ab5-41da-9ad3-c2517c0d01ac",
   "metadata": {},
   "source": [
    "- A convolution operation is a widely used *signal-processing technique*. \n",
    "    - *Signal processing involves converting or transforming data in a way that allows us to see things in it that are not possible via direct observation.*<br></br>\n",
    "    \n",
    "- For images, convolution is used for different effects(blurring, sharpening, embossing), or extract features(such as edge detection) from an image. An example of edge detection using convolution:\n",
    "    \n",
    "<div align=\"center\">\n",
    "    <img src=\"images/edge_detection_conv.png\"/>\n",
    "</div>  \n",
    "\n",
    "- This is achieved by shifting a convolution filter on top of an image to produce a different output at each location. Specifically, at each location, we do element-wise multiplication of the elements in the convolution filter with the image patch (the same size as the convolution filter) that overlaps with the convolution filter and takes the sum of the multiplication.\n",
    "\n",
    "\n",
    "Below fig. represents the above process described\n",
    "<!-- <div align=\"center\">\n",
    "    <img src=\"images/2D_Convolution_Animation.gif\"/>\n",
    "</div>   -->"
   ]
  },
  {
   "cell_type": "markdown",
   "id": "52389cb3-90cd-47f6-8df0-0647b6195de5",
   "metadata": {
    "jp-MarkdownHeadingCollapsed": true,
    "tags": []
   },
   "source": [
    "#### 4.2.1 2D Convulational and 2D Max Pooling\n",
    "\n",
    "2D Convolution and Max pooling are two operation you perform on a tensor over the width and height axes. These operations are often used in convolution neural networks."
   ]
  },
  {
   "cell_type": "markdown",
   "id": "6f2beacf-048b-4596-b191-2d4a54f15125",
   "metadata": {},
   "source": [
    "- **Convolution operation**\n",
    "<div align=\"center\">\n",
    "    <img src=\"images/conv.png\" title=\"Convolution operation\"/>\n",
    "</div>  \n",
    "\n",
    "* **\n",
    "\n",
    "- **Max pool operation**\n",
    "<div align=\"center\">\n",
    "    <img src=\"images/max_pool.png\" title=\"Max pool operation\"/>\n",
    "</div>  "
   ]
  },
  {
   "cell_type": "markdown",
   "id": "12ac9b5f-0b9c-4706-90ec-9af96a7092c6",
   "metadata": {},
   "source": [
    "- [Kernel_(image_processing) - Wikipedia](https://en.wikipedia.org/wiki/Kernel_(image_processing))\n",
    "\n",
    "- [tensorflow doc - conv2d](https://www.tensorflow.org/api_docs/python/tf/nn/conv2d)\n",
    "\n",
    "    - Example is good"
   ]
  },
  {
   "cell_type": "markdown",
   "id": "f2ee57d4-6947-4b3e-a878-0bb24f4ebf90",
   "metadata": {
    "jp-MarkdownHeadingCollapsed": true,
    "tags": []
   },
   "source": [
    "#### 4.2.2 `tf.conv2d()`\n",
    "\n",
    "Let's understand all the arguments in `tf.conv2d(input, filters, strides, padding)` in more detail:"
   ]
  },
  {
   "cell_type": "code",
   "execution_count": 12,
   "id": "49c223ba-3c84-404c-b282-a2412c176fd6",
   "metadata": {
    "execution": {
     "iopub.execute_input": "2023-06-20T03:17:33.815186Z",
     "iopub.status.busy": "2023-06-20T03:17:33.814186Z",
     "iopub.status.idle": "2023-06-20T03:17:33.836542Z",
     "shell.execute_reply": "2023-06-20T03:17:33.835346Z",
     "shell.execute_reply.started": "2023-06-20T03:17:33.815186Z"
    },
    "tags": []
   },
   "outputs": [
    {
     "name": "stdout",
     "output_type": "stream",
     "text": [
      "x:\n",
      "(1, 4, 4, 1)\n",
      "x_filter:\n",
      "(2, 2, 1, 1)\n"
     ]
    }
   ],
   "source": [
    "# Implementing Convulation Operation\n",
    "x = tf.constant(\n",
    "    [[\n",
    "        [[1],[2],[3],[4]],\n",
    "        [[4],[3],[2],[1]],\n",
    "        [[5],[6],[7],[8]],\n",
    "        [[8],[7],[6],[5]]\n",
    "    ]],\n",
    "    dtype=tf.float32)\n",
    "\n",
    "x_filter = tf.constant(\n",
    "    [\n",
    "        [\n",
    "            [[0.5]],[[1]]\n",
    "        ],\n",
    "        [\n",
    "            [[0.5]],[[1]]\n",
    "        ]\n",
    "    ],\n",
    "    dtype=tf.float32)\n",
    "\n",
    "x_stride = [1,1,1,1]\n",
    "x_padding = 'VALID'\n",
    "\n",
    "\n",
    "print(\"x:\\n%s\" %x.shape)\n",
    "print(\"x_filter:\\n%s\" %x_filter.shape)"
   ]
  },
  {
   "cell_type": "markdown",
   "id": "de1f9bba-d1c4-454f-b902-3d5b11633cc0",
   "metadata": {},
   "source": [
    "- Very Nice Visualization: [**How to interpret a rank-4 tensor? - Tensorflow Docs**](https://www.tensorflow.org/guide/tensor#about_shapes)"
   ]
  },
  {
   "cell_type": "code",
   "execution_count": null,
   "id": "95c9d1ab-5b77-4ec0-b20e-df833b8efe15",
   "metadata": {
    "tags": []
   },
   "outputs": [],
   "source": [
    "x_conv = tf.nn.conv2d(input=x, filters=x_filter, \n",
    "                      strides=x_stride, padding=x_padding)\n",
    "\n",
    "print('2-D Convolution operation')\n",
    "print(x_conv.numpy())"
   ]
  },
  {
   "cell_type": "markdown",
   "id": "35ceedd9-6989-4908-8d1d-24701bce4f59",
   "metadata": {},
   "source": [
    "- **`input` :** This is typically a 4D tensor where dimensions should be ordered as `[batch_size, height, width, channels]` or `[batch_size, height, width, features]`\n",
    "\n",
    "    - `batch_size`: This is the amount of data (for e.g., inputs such as images, and words) in a single batch of data.\n",
    "    \n",
    "    - `height and width`: This is the height and the width of the input.\n",
    "    \n",
    "    - `channels`: This is the depth of an input (for e.g., for an RGB image, the number of channels will be 3—a channel for each color)."
   ]
  },
  {
   "cell_type": "code",
   "execution_count": 8,
   "id": "afaa357b-49e7-4e39-9c65-ff54ef5c8a54",
   "metadata": {
    "execution": {
     "iopub.execute_input": "2023-06-20T03:03:20.074740Z",
     "iopub.status.busy": "2023-06-20T03:03:20.074740Z",
     "iopub.status.idle": "2023-06-20T03:03:20.102452Z",
     "shell.execute_reply": "2023-06-20T03:03:20.101417Z",
     "shell.execute_reply.started": "2023-06-20T03:03:20.074740Z"
    }
   },
   "outputs": [
    {
     "name": "stdout",
     "output_type": "stream",
     "text": [
      "A rank-4 tensor, shape: (3, 2, 4, 5)\n"
     ]
    }
   ],
   "source": [
    "rank_4_tensor = tf.zeros([3, 2, 4, 5])\n",
    "print(\"A rank-4 tensor, shape: %s\"%rank_4_tensor.shape)"
   ]
  },
  {
   "cell_type": "markdown",
   "id": "a3c9cff7-f842-486e-abcd-7d5f2793e375",
   "metadata": {},
   "source": [
    "<div align=\"center\">\n",
    "    <img src=\"images/rank_4_tensor.png\"/>\n",
    "</div>"
   ]
  },
  {
   "cell_type": "code",
   "execution_count": 9,
   "id": "1582ba61-02cc-4a1c-a0a3-38c8f8e908d1",
   "metadata": {
    "execution": {
     "iopub.execute_input": "2023-06-20T03:05:04.015656Z",
     "iopub.status.busy": "2023-06-20T03:05:04.015656Z",
     "iopub.status.idle": "2023-06-20T03:05:04.042163Z",
     "shell.execute_reply": "2023-06-20T03:05:04.041161Z",
     "shell.execute_reply.started": "2023-06-20T03:05:04.015656Z"
    }
   },
   "outputs": [
    {
     "name": "stdout",
     "output_type": "stream",
     "text": [
      "Type of every element: <dtype: 'float32'>\n",
      "Number of axes: 4\n",
      "Shape of tensor: (3, 2, 4, 5)\n",
      "Elements along axis 0 of tensor: 3\n",
      "Elements along the last axis of tensor: 5\n",
      "Total number of elements (3*2*4*5):  120\n"
     ]
    }
   ],
   "source": [
    "print(\"Type of every element:\", rank_4_tensor.dtype)\n",
    "print(\"Number of axes:\", rank_4_tensor.ndim)\n",
    "print(\"Shape of tensor:\", rank_4_tensor.shape)\n",
    "print(\"Elements along axis 0 of tensor:\", rank_4_tensor.shape[0])\n",
    "print(\"Elements along the last axis of tensor:\", rank_4_tensor.shape[-1])\n",
    "print(\"Total number of elements (3*2*4*5): \", tf.size(rank_4_tensor).numpy())"
   ]
  },
  {
   "cell_type": "markdown",
   "id": "34e75140-edd4-44e1-b846-89b22dbe5abc",
   "metadata": {},
   "source": [
    "But note that the `Tensor.ndim` and `Tensor.shape` attributes don't return `Tensor` objects. If you need a `Tensor` use the `tf.rank` or `tf.shape` function. This difference is subtle."
   ]
  },
  {
   "cell_type": "code",
   "execution_count": 10,
   "id": "2e53ed05-caa2-4e9d-b826-da22937da177",
   "metadata": {
    "execution": {
     "iopub.execute_input": "2023-06-20T03:06:11.418020Z",
     "iopub.status.busy": "2023-06-20T03:06:11.418020Z",
     "iopub.status.idle": "2023-06-20T03:06:11.429651Z",
     "shell.execute_reply": "2023-06-20T03:06:11.428650Z",
     "shell.execute_reply.started": "2023-06-20T03:06:11.418020Z"
    }
   },
   "outputs": [
    {
     "data": {
      "text/plain": [
       "<tf.Tensor: shape=(), dtype=int32, numpy=4>"
      ]
     },
     "execution_count": 10,
     "metadata": {},
     "output_type": "execute_result"
    }
   ],
   "source": [
    "tf.rank(rank_4_tensor)"
   ]
  },
  {
   "cell_type": "code",
   "execution_count": 11,
   "id": "f885bcf4-9eba-4bee-92f0-b63cf07e30e8",
   "metadata": {
    "execution": {
     "iopub.execute_input": "2023-06-20T03:06:21.442441Z",
     "iopub.status.busy": "2023-06-20T03:06:21.442441Z",
     "iopub.status.idle": "2023-06-20T03:06:21.463316Z",
     "shell.execute_reply": "2023-06-20T03:06:21.462812Z",
     "shell.execute_reply.started": "2023-06-20T03:06:21.442441Z"
    }
   },
   "outputs": [
    {
     "data": {
      "text/plain": [
       "<tf.Tensor: shape=(4,), dtype=int32, numpy=array([3, 2, 4, 5])>"
      ]
     },
     "execution_count": 11,
     "metadata": {},
     "output_type": "execute_result"
    }
   ],
   "source": [
    "tf.shape(rank_4_tensor)"
   ]
  },
  {
   "cell_type": "markdown",
   "id": "c2d255f6-d763-42bf-b4ef-f453307442f6",
   "metadata": {},
   "source": [
    "While axes are often referred to by their indices, you should always keep track of the meaning of each. Often axes are ordered from global to local: The batch axis first, followed by spatial dimensions, and features for each location last. This way feature vectors are contiguous regions of memory.\n",
    "\n",
    "<div align=\"center\">\n",
    "    <img src=\"images/rank_4_tensor_1.png\"/>\n",
    "</div>"
   ]
  },
  {
   "cell_type": "markdown",
   "id": "96a82a83-bd41-46c0-b6c9-80678dc0d523",
   "metadata": {},
   "source": [
    "2. **`filters` :** This is a 4D tensor that represents the convulation window of the convulational operation. The filter dimensions should be `[height, width, in channels, out channels]`:\n",
    "    - `height and width`: This is the height and the width of the filter (often smaller than that of the input)\n",
    "    \n",
    "    - `in_channels`: This is the number of channels of the input to the layer\n",
    "    \n",
    "    - `out_channels`: This is the number of channels to be produced in the output of the layer <br></br>\n",
    "    \n",
    "3. `strides`: This is a list with four elements, where the elements are `[batch _ stride, he ight _ stride , width stride, channels stride]`. **The `strides` argument denotes how many elements to skip during a single shift of the convolution window on the input.** Usually, you don't have to worry about `batch_stride` and `channels_stride`. If you do not completely understand what `strides` is, you can use the default value of `1`.\n",
    "\n",
    "4. `padding`: This can be one of `['SAME', 'VALID']`. It decides how to handle the convolution operation near the boundaries of the input. \n",
    "\n",
    "    - The `VALID` operation performs the convolution without padding. If we were to convolve an input of n length with a convolution window of size h, this will result in an output of size $(n-h+l < n)$. The diminishing of the output size can severely limit the depth of neural networks. \n",
    "    \n",
    "    - `SAME` pads zeros to the boundary such that the output will have the same height and width as the input.\n",
    "    \n",
    "- **Convolution operation**\n",
    "<div align=\"center\">\n",
    "    <img src=\"images/conv.png\" title=\"Convolution operation\"/>\n",
    "</div> "
   ]
  },
  {
   "cell_type": "markdown",
   "id": "a17016f6-d955-4904-87bd-0074d9dfcb3b",
   "metadata": {
    "jp-MarkdownHeadingCollapsed": true,
    "tags": []
   },
   "source": [
    "#### 4.2.3 The Pooling Operation"
   ]
  },
  {
   "cell_type": "code",
   "execution_count": 6,
   "id": "a3fb5f2e-d36d-4552-af0d-e56c480a3f42",
   "metadata": {
    "execution": {
     "iopub.execute_input": "2023-06-20T02:50:44.954439Z",
     "iopub.status.busy": "2023-06-20T02:50:44.954439Z",
     "iopub.status.idle": "2023-06-20T02:50:48.446723Z",
     "shell.execute_reply": "2023-06-20T02:50:48.446723Z",
     "shell.execute_reply.started": "2023-06-20T02:50:44.954439Z"
    }
   },
   "outputs": [
    {
     "name": "stdout",
     "output_type": "stream",
     "text": [
      "x:\n",
      "[[[[1.]\n",
      "   [2.]\n",
      "   [3.]\n",
      "   [4.]]\n",
      "\n",
      "  [[4.]\n",
      "   [3.]\n",
      "   [2.]\n",
      "   [1.]]\n",
      "\n",
      "  [[5.]\n",
      "   [6.]\n",
      "   [7.]\n",
      "   [8.]]\n",
      "\n",
      "  [[8.]\n",
      "   [7.]\n",
      "   [6.]\n",
      "   [5.]]]]\n",
      "\n",
      "Max pooling operation\n",
      "[[[[4.]\n",
      "   [4.]]\n",
      "\n",
      "  [[8.]\n",
      "   [8.]]]]\n"
     ]
    }
   ],
   "source": [
    "x = tf.constant(\n",
    "    [[\n",
    "        [[1],[2],[3],[4]],\n",
    "        [[4],[3],[2],[1]],\n",
    "        [[5],[6],[7],[8]],\n",
    "        [[8],[7],[6],[5]]\n",
    "    ]],\n",
    "    dtype=tf.float32)\n",
    "\n",
    "x_ksize = [1,2,2,1]\n",
    "x_stride = [1,2,2,1]\n",
    "x_padding = 'VALID'\n",
    "\n",
    "x_pool = tf.nn.max_pool2d(\n",
    "    input=x, ksize=x_ksize,\n",
    "    strides=x_stride, padding=x_padding\n",
    ")\n",
    "\n",
    "print(\"x:\\n%s\" %x.numpy())\n",
    "\n",
    "print('\\nMax pooling operation')\n",
    "print(x_pool.numpy())"
   ]
  },
  {
   "cell_type": "markdown",
   "id": "071314ff-68bc-4d9b-8b69-80b359c3d724",
   "metadata": {},
   "source": [
    "A pooling operation behaves similarly to the convolution operation, but the final output is different. Instead of outputting the sum of the element-wise multiplication of the filter and the image patch, we now take the maximum\n",
    "element of the image patch for that location.\n",
    "\n",
    "- **Max pool operation**\n",
    "<div align=\"center\">\n",
    "    <img src=\"images/max_pool.png\" title=\"Max pool operation\"/>\n",
    "</div>  "
   ]
  },
  {
   "cell_type": "markdown",
   "id": "5938c5f5-a1cb-4795-9728-8b70f77bbefd",
   "metadata": {
    "jp-MarkdownHeadingCollapsed": true,
    "tags": []
   },
   "source": [
    "### 4.3 Loss Function\n",
    "\n",
    "1. $MSE = \\frac{1}{N}\\sum_{i=1}^{N}(x_i - \\hat{x}_i)^2  \\rightarrow $ `tf.nn.l2_loss`\n",
    "\n",
    "2. $\\text{Cross Entropy Loss(CE) } = -\\frac{1}{N}\\sum_{i=1}^{N}y_i\\log(\\hat{y}_i) + (1-y_i)\\log(1-\\hat{y}_i) \\rightarrow $ `tf.nn.softmax_cross_entropy_with_logits` for classification tasks. And by `logits` here, we mean the unnormalized output of the neural network (that is, the linear output of the last layer of the neural network)."
   ]
  },
  {
   "cell_type": "code",
   "execution_count": 13,
   "id": "100992ae-bf96-4f7d-9ab6-500f7bf964db",
   "metadata": {
    "execution": {
     "iopub.execute_input": "2023-06-20T05:14:44.651587Z",
     "iopub.status.busy": "2023-06-20T05:14:44.648902Z",
     "iopub.status.idle": "2023-06-20T05:14:44.856883Z",
     "shell.execute_reply": "2023-06-20T05:14:44.856883Z",
     "shell.execute_reply.started": "2023-06-20T05:14:44.651587Z"
    }
   },
   "outputs": [
    {
     "name": "stdout",
     "output_type": "stream",
     "text": [
      "MSE Loss:  15.0\n",
      "CE Loss:  0.08775769\n"
     ]
    }
   ],
   "source": [
    "# Returns half of L2 norm of t given by sum(t**2)/2\n",
    "x = tf.constant([[2,4],[6,8]],dtype=tf.float32)\n",
    "x_hat = tf.constant([[1,2],[3,4]],dtype=tf.float32)\n",
    "# MSE = (1**2 + 2**2 + 3**2 + 4**2)/2 = 15\n",
    "MSE = tf.nn.l2_loss(x-x_hat)\n",
    "\n",
    "# A common loss function used in neural networks to optimize the network\n",
    "# Calculating the cross_entropy with logits (unnormalized outputs of the last layer)\n",
    "# instead of probabilsitic outputs leads to better numerical stabilities\n",
    "\n",
    "y = tf.constant([[1,0],[0,1]],dtype=tf.float32)\n",
    "y_hat = tf.constant([[3,1],[2,5]],dtype=tf.float32)\n",
    "\n",
    "# This function alone doesnt average the cross entropy losses of all data points,\n",
    "# You need to do that manually using reduce_mean function\n",
    "CE = tf.reduce_mean(tf.nn.softmax_cross_entropy_with_logits(logits=y_hat,labels=y))\n",
    "\n",
    "print('MSE Loss: ',MSE.numpy())\n",
    "print('CE Loss: ',CE.numpy())"
   ]
  },
  {
   "cell_type": "markdown",
   "id": "19fca378-b38e-47d3-be3c-937e301a284f",
   "metadata": {
    "jp-MarkdownHeadingCollapsed": true,
    "tags": []
   },
   "source": [
    "### 4.4 Stochastic Optimization\n",
    "\n",
    "Here we discuss how to implement optimization with TensorFlow. The objective of this example is to find the mininum point of a given function. For this example, we will use a simple quadratic function where $y = x^2$. We will start at an arbitrary point (say $x=2$) and keep minimizing until we reach the minimum."
   ]
  },
  {
   "cell_type": "code",
   "execution_count": 16,
   "id": "bb6a15e2-7551-44cf-8e65-77046ee17fff",
   "metadata": {
    "execution": {
     "iopub.execute_input": "2023-06-20T05:19:28.432865Z",
     "iopub.status.busy": "2023-06-20T05:19:28.432865Z",
     "iopub.status.idle": "2023-06-20T05:19:28.768862Z",
     "shell.execute_reply": "2023-06-20T05:19:28.768862Z",
     "shell.execute_reply.started": "2023-06-20T05:19:28.432865Z"
    },
    "tags": []
   },
   "outputs": [
    {
     "name": "stdout",
     "output_type": "stream",
     "text": [
      "Step:  0 , x:  1.600000023841858 , y:  4.0\n",
      "Step:  1 , x:  1.2799999713897705 , y:  2.56000018119812\n",
      "Step:  2 , x:  1.0239999294281006 , y:  1.6383999586105347\n",
      "Step:  3 , x:  0.8191999197006226 , y:  1.0485758781433105\n",
      "Step:  4 , x:  0.6553599238395691 , y:  0.6710885167121887\n"
     ]
    },
    {
     "data": {
      "text/plain": [
       "Text(0.5, 1.0, 'Optimizing $y = x^2$')"
      ]
     },
     "execution_count": 16,
     "metadata": {},
     "output_type": "execute_result"
    },
    {
     "data": {
      "image/png": "[encoded data removed]",
      "text/plain": [
       "<Figure size 2500x500 with 1 Axes>"
      ]
     },
     "metadata": {},
     "output_type": "display_data"
    }
   ],
   "source": [
    "# Optimizers play the role of tuning neural network parameters so that their task error is minimal\n",
    "# For example task error can be the cross_entropy error for a classification task\n",
    "tf_x = tf.Variable(tf.constant(2.0,dtype=tf.float32),name='x') \n",
    "optimizer = tf.optimizers.SGD(learning_rate=0.1)\n",
    "\n",
    "# Optimizing tf_x using gradient tape\n",
    "x_series, y_series = [],[]\n",
    "for step in range(5):    \n",
    "    x_series.append(tf_x.numpy().item())\n",
    "    with tf.GradientTape() as tape:\n",
    "        tf_y = tf_x**2\n",
    "        \n",
    "    gradients = tape.gradient(tf_y, tf_x)\n",
    "    optimizer.apply_gradients(zip([gradients], [tf_x]))\n",
    "    print('Step: ',step, ', x: ',tf_x.numpy().item(), ', y: ',tf_y.numpy().item())\n",
    "    \n",
    "    y_series.append(tf_y.numpy().item())\n",
    "\n",
    "# Plotting the graph\n",
    "fig, ax = plt.subplots(nrows=1, ncols=1)\n",
    "fig.set_size_inches(w=25,h=5)\n",
    "ax.plot(np.arange(-4,4.1,0.1),np.arange(-4,4.1,0.1)**2)\n",
    "ax.scatter(x_series,y_series,c='red',linewidths=4)\n",
    "\n",
    "x_offset, y_offset = 0.02, 0.75\n",
    "ax.annotate('Starting point', xy=(2.01, 4.1), xytext=(2.5, 8),\n",
    "            arrowprops=dict(facecolor='black', shrink=0.01),fontsize=20\n",
    "            )\n",
    "\n",
    "ax.annotate('Optimization path', xy=(2.01, 4.1), xytext=(0.6, 5),\n",
    "            arrowprops=None,fontsize=20\n",
    "            )\n",
    "\n",
    "for index,(x,y) in enumerate(zip(x_series,y_series)):\n",
    "    if index == len(x_series)-1:\n",
    "        break\n",
    "    ax.annotate('', xy=(x_series[index+1], y_series[index+1]+y_offset), xytext=( x - x_offset, y + y_offset),\n",
    "                arrowprops=dict(facecolor='red', edgecolor='red', shrink=0.01),fontsize=20\n",
    "                )\n",
    "\n",
    "ax.set_xlabel('x',fontsize=20)\n",
    "ax.set_ylabel('y',fontsize=20)\n",
    "ax.set_title('Optimizing $y = x^2$',fontsize=24)\n",
    "# fig.savefig('optimization.png')"
   ]
  },
  {
   "cell_type": "markdown",
   "id": "348758e0-dfc1-44bd-8459-847ccd7cfaff",
   "metadata": {
    "jp-MarkdownHeadingCollapsed": true,
    "tags": []
   },
   "source": [
    "## 5. Keras APIs"
   ]
  },
  {
   "cell_type": "markdown",
   "id": "21ed3f14-82c0-44a5-aee6-49171a626a37",
   "metadata": {},
   "source": [
    "Keras's primary focus is model building. For that, Keras provides several different APIs with varying degrees of flexibility and complexity. Choosing the right API for the job will require sound knowledge of the limitations of each API as well as experience. \n",
    "\n",
    "The APIs provided by Keras are:\n",
    "- **Sequential API** — The most easy-to-use API. In this API, you simply stack layers on top of each other to create a model.\n",
    "\n",
    "- **Functional API** — The functional API provides more flexibility by allowing you to define custom models that can have multiple input layers/multiple output layers.\n",
    "\n",
    "- **Sub-classing API** — The sub-classing API enables you to define custom reusable layers/models as Python classes. This is the most flexible API, but it requires strong familiarity with the API and raw TensorFlow operations to use it correctly.\n",
    "\n",
    "\n",
    "Here, we will briefly go through what the code looks like, using different APIs to develop models. You are not expected to fully understand the code below. Rather, focus on the code style to spot any differences between the three methods."
   ]
  },
  {
   "cell_type": "markdown",
   "id": "9009b7e0-be5b-4825-ab36-eed0aa04fd4d",
   "metadata": {},
   "source": [
    "### **Sequential API**"
   ]
  },
  {
   "cell_type": "code",
   "execution_count": 17,
   "id": "50def4c9-04d1-4d63-8cea-7a0ecb6b80e0",
   "metadata": {
    "execution": {
     "iopub.execute_input": "2023-06-20T05:26:21.962306Z",
     "iopub.status.busy": "2023-06-20T05:26:21.962306Z",
     "iopub.status.idle": "2023-06-20T05:26:22.006451Z",
     "shell.execute_reply": "2023-06-20T05:26:22.006451Z",
     "shell.execute_reply.started": "2023-06-20T05:26:21.962306Z"
    }
   },
   "outputs": [],
   "source": [
    "K.clear_session()\n",
    "\n",
    "model = tf.keras.Sequential([\n",
    "        tf.keras.layers.Dense(500, activation='relu'),\n",
    "        tf.keras.layers.Dense(250, activation='relu'),\n",
    "        tf.keras.layers.Dense(10, activation='softmax')\n",
    "])"
   ]
  },
  {
   "cell_type": "markdown",
   "id": "96daab83-d53e-4001-8cce-1f4f638bebae",
   "metadata": {},
   "source": [
    "### **Functional API**"
   ]
  },
  {
   "cell_type": "code",
   "execution_count": 18,
   "id": "8f14758f-84c5-48b4-aa3b-7aae1571f46c",
   "metadata": {
    "execution": {
     "iopub.execute_input": "2023-06-20T05:26:40.508335Z",
     "iopub.status.busy": "2023-06-20T05:26:40.508335Z",
     "iopub.status.idle": "2023-06-20T05:26:40.593631Z",
     "shell.execute_reply": "2023-06-20T05:26:40.593199Z",
     "shell.execute_reply.started": "2023-06-20T05:26:40.508335Z"
    }
   },
   "outputs": [],
   "source": [
    "K.clear_session()\n",
    "\n",
    "inp = tf.keras.layers.Input(shape=(784,))\n",
    "out_1 = tf.keras.layers.Dense(500, activation='relu')(inp)\n",
    "out_2 = tf.keras.layers.Dense(250, activation='relu')(out_1)\n",
    "out = tf.keras.layers.Dense(10, activation='softmax')(out_2)\n",
    "\n",
    "model = tf.keras.models.Model(inputs=inp, outputs=out)"
   ]
  },
  {
   "cell_type": "markdown",
   "id": "4075e7fc-0748-4b36-8f2f-9b78e06c3f94",
   "metadata": {},
   "source": [
    "### **Sub-classing API**\n",
    "\n",
    "With sub-classing API, you define your model as a python object that inherits from the base object, `tf.keras.Model`. \n",
    "When using sub-classing you need to define 2 imp. functions: \n",
    "- `__init__()`, which will specify any special params, layers, and so on required to successfully perform the computations, and \n",
    "\n",
    "- `call()`, which will define the computations that need to happen in the model"
   ]
  },
  {
   "cell_type": "code",
   "execution_count": 20,
   "id": "cb43ca42-6c85-4e8e-8e7f-3f28fe21941f",
   "metadata": {
    "execution": {
     "iopub.execute_input": "2023-06-20T05:36:57.999219Z",
     "iopub.status.busy": "2023-06-20T05:36:57.998715Z",
     "iopub.status.idle": "2023-06-20T05:36:58.016173Z",
     "shell.execute_reply": "2023-06-20T05:36:58.016173Z",
     "shell.execute_reply.started": "2023-06-20T05:36:57.999219Z"
    },
    "tags": []
   },
   "outputs": [],
   "source": [
    "class MyModel(tf.keras.Model):\n",
    "    def __init__(self, num_classes):\n",
    "        super().__init__()\n",
    "        self.hidden1_layer = tf.keras.layers.Dense(500, activation='relu')\n",
    "        self.hidden2_layer = tf.keras.layers.Dense(250, activation='relu')\n",
    "        self.final_layer = tf.keras.layers.Dense(num_classes, activation='softmax')\n",
    "        \n",
    "    def call(self, inputs):\n",
    "        h = self.hidden1_layer(inputs)\n",
    "        h = self.hidden2_layer(h)\n",
    "        y = self.final_layer(h)\n",
    "        return y\n",
    "    \n",
    "model = MyModel(num_classes=10)"
   ]
  },
  {
   "cell_type": "markdown",
   "id": "64e2b8b6-d5b8-437f-b37c-da5dbeba3a8a",
   "metadata": {},
   "source": [
    "Here, you can see that our model has three layers, just like all the previous models we defined. Next, the call function defines how these layers connect to produce the final output. The sub-classing API is considered the most diffcult to master, mainly due to the freedom allowed by the method. However, the rewards are immense once you learn the API as it enables you to define very complex models/layers as unit computations that can be reused later."
   ]
  },
  {
   "cell_type": "markdown",
   "id": "1ff8655a-ab14-42f1-9f87-27c83c070a07",
   "metadata": {},
   "source": [
    "## Implemneting our first NN: MNIST Classification"
   ]
  },
  {
   "cell_type": "markdown",
   "id": "15f122a7-ff06-4cad-83dd-fbdd791bd982",
   "metadata": {},
   "source": [
    "### Get and Prepare the Data"
   ]
  },
  {
   "cell_type": "code",
   "execution_count": 28,
   "id": "37a6e545-f8a5-4874-bb6a-6290f1b481c8",
   "metadata": {
    "execution": {
     "iopub.execute_input": "2023-06-20T06:01:42.026979Z",
     "iopub.status.busy": "2023-06-20T06:01:42.026979Z",
     "iopub.status.idle": "2023-06-20T06:01:42.229856Z",
     "shell.execute_reply": "2023-06-20T06:01:42.229217Z",
     "shell.execute_reply.started": "2023-06-20T06:01:42.026979Z"
    },
    "tags": []
   },
   "outputs": [
    {
     "data": {
      "text/plain": [
       "((60000, 28, 28), (60000,), (10000, 28, 28), (10000,))"
      ]
     },
     "execution_count": 28,
     "metadata": {},
     "output_type": "execute_result"
    }
   ],
   "source": [
    "import os\n",
    "\n",
    "(x_train, y_train), (x_test, y_test) = tf.keras.datasets.mnist.load_data(\n",
    "                        path=os.path.join(os.getcwd(), \"data\", \"mnist.npz\"))\n",
    "\n",
    "x_train.shape, y_train.shape, x_test.shape, y_test.shape"
   ]
  },
  {
   "cell_type": "code",
   "execution_count": 29,
   "id": "400bfecc-62b3-4dbe-a42d-ba1b8fd3f461",
   "metadata": {
    "execution": {
     "iopub.execute_input": "2023-06-20T06:01:42.385077Z",
     "iopub.status.busy": "2023-06-20T06:01:42.384080Z",
     "iopub.status.idle": "2023-06-20T06:01:42.396075Z",
     "shell.execute_reply": "2023-06-20T06:01:42.396075Z",
     "shell.execute_reply.started": "2023-06-20T06:01:42.385077Z"
    },
    "tags": []
   },
   "outputs": [
    {
     "data": {
      "text/plain": [
       "(28, 28)"
      ]
     },
     "execution_count": 29,
     "metadata": {},
     "output_type": "execute_result"
    }
   ],
   "source": [
    "x_train[0].shape # A single image"
   ]
  },
  {
   "cell_type": "code",
   "execution_count": 30,
   "id": "af17ba72-9553-4857-85fa-8f99088191eb",
   "metadata": {
    "execution": {
     "iopub.execute_input": "2023-06-20T06:01:42.873010Z",
     "iopub.status.busy": "2023-06-20T06:01:42.872007Z",
     "iopub.status.idle": "2023-06-20T06:01:43.498282Z",
     "shell.execute_reply": "2023-06-20T06:01:43.497872Z",
     "shell.execute_reply.started": "2023-06-20T06:01:42.873010Z"
    },
    "tags": []
   },
   "outputs": [
    {
     "name": "stdout",
     "output_type": "stream",
     "text": [
      "(Before) x_train has shape: (60000, 28, 28)\n",
      "(Before) x_test has shape: (10000, 28, 28)\n",
      "(Before) x_train has - min: 0, max: 255\n",
      "(Before) x_test has - min: 0, max: 255\n",
      "\n",
      "(After) x_train has shape: (60000, 784)\n",
      "(After) x_test has shape: (10000, 784)\n",
      "(After) x_train has - min: -0.8508020140306101, max: 7.770145734421186\n",
      "(After) x_test has - min: -0.731905259880747, max: 7.57798901103678\n"
     ]
    }
   ],
   "source": [
    "print(f\"(Before) x_train has shape: {x_train.shape}\")\n",
    "print(f\"(Before) x_test has shape: {x_test.shape}\")\n",
    "\n",
    "print(f\"(Before) x_train has - min: {np.min(x_train)}, max: {np.max(x_train)}\")\n",
    "print(f\"(Before) x_test has - min: {np.min(x_test)}, max: {np.max(x_test)}\")\n",
    "\n",
    "# Reshaping our x_train and x_test tensors so that each image\n",
    "# is represented as 1D-vector\n",
    "x_train = x_train.reshape(x_train.shape[0], -1)\n",
    "x_test = x_test.reshape(x_test.shape[0], -1)\n",
    "\n",
    "print(f\"\\n(After) x_train has shape: {x_train.shape}\")\n",
    "print(f\"(After) x_test has shape: {x_test.shape}\")\n",
    "\n",
    "# Standardizing our x_train and x_test tensors, to have Mean=0, and Variance=0\n",
    "x_train = (x_train - np.mean(x_train, axis=1, keepdims=True))/np.std(x_train, axis=1, keepdims=True)\n",
    "x_test = (x_test - np.mean(x_test, axis=1, keepdims=True))/np.std(x_test, axis=1, keepdims=True)\n",
    "\n",
    "print(f\"(After) x_train has - min: {np.min(x_train)}, max: {np.max(x_train)}\")\n",
    "print(f\"(After) x_test has - min: {np.min(x_test)}, max: {np.max(x_test)}\")"
   ]
  },
  {
   "cell_type": "markdown",
   "id": "b90be768-e534-4083-bce6-c2c7e267b27c",
   "metadata": {},
   "source": [
    "### Model Training"
   ]
  },
  {
   "cell_type": "code",
   "execution_count": 32,
   "id": "4f1bfdde-7216-4982-847a-1709819bba04",
   "metadata": {
    "execution": {
     "iopub.execute_input": "2023-06-20T06:07:51.555378Z",
     "iopub.status.busy": "2023-06-20T06:07:51.555378Z",
     "iopub.status.idle": "2023-06-20T06:07:51.563886Z",
     "shell.execute_reply": "2023-06-20T06:07:51.563886Z",
     "shell.execute_reply.started": "2023-06-20T06:07:51.555378Z"
    },
    "tags": []
   },
   "outputs": [],
   "source": [
    "# Set random seed\n",
    "tf.keras.random.set_seed(42)\n",
    "\n",
    "batch_size = 100 # how many datapoints we feed to the model in a single iteration\n",
    "img_width, img_height = 28,28 # width and height of the images\n",
    "input_size = img_height * img_width # total number of pixels\n",
    "num_labels = 10 # number of classes\n",
    "\n",
    "def mnist_model():\n",
    "    \"\"\"\n",
    "    Defining the model using Keras sequential API \n",
    "    \"\"\"\n",
    "    model = tf.keras.Sequential([tf.keras.layers.Dense(500, activation=\"relu\"),\n",
    "                                 tf.keras.layers.Dense(250, activation='relu'),\n",
    "                                 tf.keras.layers.Dense(10, activation='softmax')])\n",
    "    \n",
    "    return model"
   ]
  },
  {
   "cell_type": "code",
   "execution_count": 33,
   "id": "45d7aab2-d23d-4d63-aa43-eab5c78b7fd5",
   "metadata": {
    "execution": {
     "iopub.execute_input": "2023-06-20T06:09:44.901061Z",
     "iopub.status.busy": "2023-06-20T06:09:44.900060Z",
     "iopub.status.idle": "2023-06-20T06:09:44.924898Z",
     "shell.execute_reply": "2023-06-20T06:09:44.923730Z",
     "shell.execute_reply.started": "2023-06-20T06:09:44.901061Z"
    }
   },
   "outputs": [],
   "source": [
    "# Create the model\n",
    "model = mnist_model()\n",
    "\n",
    "# Compile the model\n",
    "optimizer = tf.keras.optimizers.RMSprop()\n",
    "loss_fn = tf.keras.losses.CategoricalCrossentropy()\n",
    "\n",
    "model.compile(optimizer=optimizer, loss=loss_fn, metrics=['accuracy'])"
   ]
  },
  {
   "cell_type": "code",
   "execution_count": 34,
   "id": "bcfec605-666d-43cf-9991-b6522dd049e9",
   "metadata": {
    "execution": {
     "iopub.execute_input": "2023-06-20T06:12:08.957545Z",
     "iopub.status.busy": "2023-06-20T06:12:08.956540Z",
     "iopub.status.idle": "2023-06-20T06:12:27.306308Z",
     "shell.execute_reply": "2023-06-20T06:12:27.306308Z",
     "shell.execute_reply.started": "2023-06-20T06:12:08.957545Z"
    }
   },
   "outputs": [
    {
     "name": "stdout",
     "output_type": "stream",
     "text": [
      "Epoch 1/10\n",
      "480/480 [==============================] - 4s 4ms/step - loss: 0.2364 - accuracy: 0.9272 - val_loss: 0.1260 - val_accuracy: 0.9619\n",
      "Epoch 2/10\n",
      "480/480 [==============================] - 2s 3ms/step - loss: 0.0941 - accuracy: 0.9711 - val_loss: 0.1201 - val_accuracy: 0.9693\n",
      "Epoch 3/10\n",
      "480/480 [==============================] - 2s 3ms/step - loss: 0.0653 - accuracy: 0.9807 - val_loss: 0.1272 - val_accuracy: 0.9666\n",
      "Epoch 4/10\n",
      "480/480 [==============================] - 2s 3ms/step - loss: 0.0488 - accuracy: 0.9849 - val_loss: 0.1028 - val_accuracy: 0.9749\n",
      "Epoch 5/10\n",
      "480/480 [==============================] - 2s 3ms/step - loss: 0.0407 - accuracy: 0.9874 - val_loss: 0.1122 - val_accuracy: 0.9764\n",
      "Epoch 6/10\n",
      "480/480 [==============================] - 2s 3ms/step - loss: 0.0340 - accuracy: 0.9899 - val_loss: 0.1057 - val_accuracy: 0.9786\n",
      "Epoch 7/10\n",
      "480/480 [==============================] - 2s 3ms/step - loss: 0.0287 - accuracy: 0.9917 - val_loss: 0.1227 - val_accuracy: 0.9758\n",
      "Epoch 8/10\n",
      "480/480 [==============================] - 2s 3ms/step - loss: 0.0237 - accuracy: 0.9932 - val_loss: 0.1504 - val_accuracy: 0.9747\n",
      "Epoch 9/10\n",
      "480/480 [==============================] - 2s 3ms/step - loss: 0.0230 - accuracy: 0.9937 - val_loss: 0.1530 - val_accuracy: 0.9749\n",
      "Epoch 10/10\n",
      "480/480 [==============================] - 2s 3ms/step - loss: 0.0198 - accuracy: 0.9949 - val_loss: 0.1639 - val_accuracy: 0.9774\n"
     ]
    }
   ],
   "source": [
    "\"\"\" Model training \"\"\"    \n",
    "\n",
    "# Train the model\n",
    "NUM_EPOCHS = 10\n",
    "\n",
    "# Creating onehot encoded labels\n",
    "y_onehot_train = np.zeros((y_train.shape[0], num_labels), dtype=np.float32)\n",
    "y_onehot_train[np.arange(y_train.shape[0]), y_train] = 1.0\n",
    "\n",
    "# Training Phase\n",
    "train_history = model.fit(x_train, y_onehot_train, \n",
    "                         batch_size=batch_size, epochs=NUM_EPOCHS,\n",
    "                         validation_split=0.2)"
   ]
  },
  {
   "cell_type": "markdown",
   "id": "6a48e3f8-f159-4869-8b79-e33dc16e1b6e",
   "metadata": {},
   "source": [
    "### Testing the model"
   ]
  },
  {
   "cell_type": "code",
   "execution_count": 35,
   "id": "d7d0af7c-d1c7-4c33-a540-6eb200d500e4",
   "metadata": {
    "execution": {
     "iopub.execute_input": "2023-06-20T06:12:30.971309Z",
     "iopub.status.busy": "2023-06-20T06:12:30.971309Z",
     "iopub.status.idle": "2023-06-20T06:12:31.488775Z",
     "shell.execute_reply": "2023-06-20T06:12:31.488775Z",
     "shell.execute_reply.started": "2023-06-20T06:12:30.971309Z"
    }
   },
   "outputs": [
    {
     "name": "stdout",
     "output_type": "stream",
     "text": [
      "100/100 [==============================] - 0s 4ms/step - loss: 0.1517 - accuracy: 0.9785\n",
      "Testing Results: \n",
      "\tLoss: 0.1516658067703247\n",
      "\tAccuracy: 0.9785000085830688\n"
     ]
    }
   ],
   "source": [
    "\"\"\" Testing phase \"\"\"\n",
    "\n",
    "# Test inputs and targets\n",
    "y_onehot_test = np.zeros((y_test.shape[0], num_labels), dtype=np.float32)\n",
    "y_onehot_test[np.arange(y_test.shape[0]), y_test] = 1.0\n",
    "\n",
    "# Evaulte on test data\n",
    "test_res = model.evaluate(x_test, y_onehot_test, batch_size=batch_size)\n",
    "\n",
    "print(\"Testing Results: \")\n",
    "print(f\"\\tLoss: {test_res[0]}\")\n",
    "print(f\"\\tAccuracy: {test_res[1]}\")"
   ]
  },
  {
   "cell_type": "markdown",
   "id": "796cf2c6-3f8c-4d6e-bdb7-1f87307527b5",
   "metadata": {},
   "source": [
    "### Visualizing the Loss and the Accuracy"
   ]
  },
  {
   "cell_type": "code",
   "execution_count": 38,
   "id": "fcb2e9bc-d28a-4402-a014-adcd958f68bf",
   "metadata": {
    "execution": {
     "iopub.execute_input": "2023-06-20T06:14:39.251855Z",
     "iopub.status.busy": "2023-06-20T06:14:39.250848Z",
     "iopub.status.idle": "2023-06-20T06:14:39.511148Z",
     "shell.execute_reply": "2023-06-20T06:14:39.511148Z",
     "shell.execute_reply.started": "2023-06-20T06:14:39.251855Z"
    },
    "tags": []
   },
   "outputs": [
    {
     "data": {
      "image/png": "[encoded data removed]",
      "text/plain": [
       "<Figure size 2500x500 with 2 Axes>"
      ]
     },
     "metadata": {},
     "output_type": "display_data"
    }
   ],
   "source": [
    "x_axis = np.arange(NUM_EPOCHS)\n",
    "\n",
    "fig, ax = plt.subplots(nrows=1, ncols=2)\n",
    "fig.set_size_inches(w=25,h=5)\n",
    "\n",
    "ax[0].plot(x_axis, train_history.history[\"loss\"])\n",
    "ax[0].set_xlabel('Epochs',fontsize=18)\n",
    "ax[0].set_ylabel('Average train loss',fontsize=18)\n",
    "ax[0].set_title('Training Loss over Time',fontsize=20)\n",
    "\n",
    "ax[1].plot(x_axis, train_history.history[\"val_accuracy\"])\n",
    "ax[1].set_xlabel('Epochs',fontsize=18)\n",
    "ax[1].set_ylabel('Validation accuracy',fontsize=18)\n",
    "ax[1].set_title('Validation Accuracy over Time',fontsize=20)\n",
    "\n",
    "plt.show();"
   ]
  },
  {
   "cell_type": "code",
   "execution_count": null,
   "id": "7f345f95-aa5e-4450-96f3-cf0d29f89eae",
   "metadata": {},
   "outputs": [],
   "source": []
  }
 ],
 "metadata": {
  "kernelspec": {
   "display_name": "Python 3 (ipykernel)",
   "language": "python",
   "name": "python3"
  },
  "language_info": {
   "codemirror_mode": {
    "name": "ipython",
    "version": 3
   },
   "file_extension": ".py",
   "mimetype": "text/x-python",
   "name": "python",
   "nbconvert_exporter": "python",
   "pygments_lexer": "ipython3",
   "version": "3.10.9"
  },
  "widgets": {
   "application/vnd.jupyter.widget-state+json": {
    "state": {},
    "version_major": 2,
    "version_minor": 0
   }
  }
 },
 "nbformat": 4,
 "nbformat_minor": 5
}
