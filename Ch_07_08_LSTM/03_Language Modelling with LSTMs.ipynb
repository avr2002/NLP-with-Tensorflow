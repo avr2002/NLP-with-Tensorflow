{
 "cells": [
  {
   "cell_type": "markdown",
   "id": "32d45ee8-7c7a-4632-a794-2675526397af",
   "metadata": {},
   "source": [
    "<h1 align='center'>Applications of LSTM – Generating Text</h1>"
   ]
  },
  {
   "cell_type": "code",
   "execution_count": 1,
   "id": "93852709-64aa-4270-b31d-d38ccef07e7a",
   "metadata": {
    "tags": []
   },
   "outputs": [
    {
     "data": {
      "text/plain": [
       "[PhysicalDevice(name='/physical_device:GPU:0', device_type='GPU')]"
      ]
     },
     "execution_count": 1,
     "metadata": {},
     "output_type": "execute_result"
    }
   ],
   "source": [
    "import os\n",
    "from six.moves.urllib.request import urlretrieve\n",
    "import tensorflow as tf\n",
    "\n",
    "tf.config.list_physical_devices('GPU')"
   ]
  },
  {
   "cell_type": "markdown",
   "id": "aaba5316-f785-486e-862a-ed8ad65766bc",
   "metadata": {
    "jp-MarkdownHeadingCollapsed": true,
    "tags": []
   },
   "source": [
    "## Get Data\n",
    "\n",
    "[Dowloading Stories](https://www.cs.cmu.edu/~spok/grimmtmp/). The dataset consists of 209 stories. These are the translations of some folk stories by the Grimm brothers."
   ]
  },
  {
   "cell_type": "code",
   "execution_count": 2,
   "id": "870cc2f5-e126-4842-af32-17ea4fdfe930",
   "metadata": {
    "tags": []
   },
   "outputs": [
    {
     "name": "stdout",
     "output_type": "stream",
     "text": [
      "209 files found.\n"
     ]
    }
   ],
   "source": [
    "url = 'https://www.cs.cmu.edu/~spok/grimmtmp/'\n",
    "dir_name = 'data'\n",
    "\n",
    "def download_data(url, filename, download_dir):\n",
    "    \"\"\"Download a file if not present, and make sure it's the right size.\"\"\"\n",
    "      \n",
    "    # Create directories if doesn't exist\n",
    "    os.makedirs(download_dir, exist_ok=True)\n",
    "    \n",
    "    # If file doesn't exist download\n",
    "    if not os.path.exists(os.path.join(download_dir,filename)):\n",
    "        filepath, _ = urlretrieve(url + filename, os.path.join(download_dir,filename))\n",
    "    else:\n",
    "        filepath = os.path.join(download_dir, filename)\n",
    "        \n",
    "    return filepath\n",
    "\n",
    "# Number of files and their names to download\n",
    "num_files = 209\n",
    "filenames = [format(i, '03d')+'.txt' for i in range(1, num_files+1)]\n",
    "\n",
    "# Download each file\n",
    "for fn in filenames:\n",
    "    download_data(url, fn, dir_name)\n",
    "    \n",
    "# Check if all files are downloaded\n",
    "for i in range(len(filenames)):\n",
    "    file_exists = os.path.isfile(os.path.join(dir_name,filenames[i]))\n",
    "    assert file_exists\n",
    "\n",
    "print(f\"{len(filenames)} files found.\") "
   ]
  },
  {
   "cell_type": "markdown",
   "id": "385f4e92-2e15-4c69-890b-ee58c003ba23",
   "metadata": {
    "jp-MarkdownHeadingCollapsed": true,
    "tags": []
   },
   "source": [
    "## Train-Validation-Test Split"
   ]
  },
  {
   "cell_type": "code",
   "execution_count": 4,
   "id": "faf1362c-c144-412e-8d44-1ae3a59832c6",
   "metadata": {
    "tags": []
   },
   "outputs": [
    {
     "name": "stdout",
     "output_type": "stream",
     "text": [
      "Got 167 files in the train dataset (e.g. ['data\\\\117.txt', 'data\\\\133.txt', 'data\\\\069.txt'])\n",
      "Got 21 files in the valid dataset (e.g. ['data\\\\023.txt', 'data\\\\078.txt', 'data\\\\176.txt'])\n",
      "Got 21 files in the test dataset (e.g. ['data\\\\129.txt', 'data\\\\207.txt', 'data\\\\170.txt'])\n"
     ]
    }
   ],
   "source": [
    "from sklearn.model_selection import train_test_split\n",
    "\n",
    "random_state = 54321\n",
    "\n",
    "filenames = [os.path.join(dir_name, file) for file in os.listdir(dir_name) if file!='.ipynb_checkpoints']\n",
    "\n",
    "# First separate train and valid+test data\n",
    "train_filenames, test_and_valid_filenames = train_test_split(filenames, test_size=0.2, \n",
    "                                                             random_state=random_state)\n",
    "\n",
    "# Separate valid+test data to validation and test data\n",
    "valid_filenames, test_filenames = train_test_split(test_and_valid_filenames, test_size=0.5,\n",
    "                                                   random_state=random_state)\n",
    "\n",
    "# Print out the sizes and some sample filenames\n",
    "for subset_id, subset in zip(('train', 'valid', 'test'), (train_filenames, valid_filenames, test_filenames)):\n",
    "    print(f\"Got {len(subset)} files in the {subset_id} dataset (e.g. {subset[:3]})\")"
   ]
  },
  {
   "cell_type": "markdown",
   "id": "79445052-1979-4b18-a3f1-12ba19e434be",
   "metadata": {
    "jp-MarkdownHeadingCollapsed": true,
    "tags": []
   },
   "source": [
    "## Analyzing the vocabulary size"
   ]
  },
  {
   "cell_type": "markdown",
   "id": "8ec69868-f10c-4fc0-b6f2-ebd043e16c77",
   "metadata": {},
   "source": [
    "- We will process the text by breaking it into character-level bigrams (n-grams where n=2) and make a vocabulary out of the unique bigrams. \n",
    "\n",
    "- Using character-level bigrams helps us to language model with a reduced vocabulary, leading to faster model training.\n",
    "\n",
    "For e.g.: \"`The king was hunting in the forest`\", would break down to a sequence of bigrams as follows: `[‘th’, ‘e ‘, ‘ki’, ‘ng’, ‘ w’, ‘as’, …]`"
   ]
  },
  {
   "cell_type": "code",
   "execution_count": 6,
   "id": "744f3f8c-b5a9-42ae-9a10-c6815ae49e94",
   "metadata": {
    "tags": []
   },
   "outputs": [
    {
     "name": "stdout",
     "output_type": "stream",
     "text": [
      "Found 705 unique bigrams\n"
     ]
    }
   ],
   "source": [
    "bigram_set = set()\n",
    "\n",
    "# Go through each file in the training set\n",
    "for file_name in train_filenames:\n",
    "    document = [] # This will hold all the text\n",
    "    with open(file_name, 'r') as f:\n",
    "        for row in f:\n",
    "            # Convert text to lower case to reduce input dimensionality\n",
    "            document.append(row.lower())\n",
    "        \n",
    "        # Stiching all the text\n",
    "        document = \" \".join(document)\n",
    "        \n",
    "        # Updating the set with bigram\n",
    "        bigram_set.update([document[i:i+2] for i in range(0, len(document), 2)])\n",
    "        \n",
    "        \n",
    "n_vocab = len(bigram_set)\n",
    "print(f\"Found {n_vocab} unique bigrams\")"
   ]
  },
  {
   "cell_type": "markdown",
   "id": "f880ef11-7dd7-4c6a-9252-bdf22fafb314",
   "metadata": {
    "jp-MarkdownHeadingCollapsed": true,
    "tags": []
   },
   "source": [
    "## Defining the `tf.data` pipeline"
   ]
  },
  {
   "cell_type": "markdown",
   "id": "99bb71dd-26ab-4c20-b8df-12397a6f5992",
   "metadata": {},
   "source": [
    "We will now define a fully fledged data pipeline that is capable of reading the files from the disk and transforming the content into a format or structure that can be used to train the model.\n",
    "\n",
    "<div align='center'>\n",
    "    <b>Process for generating data to train the language model</b>\n",
    "</div>\n",
    "\n",
    "<div align='center'>\n",
    "    <img src='images/data_pipe.png'/>\n",
    "</div>"
   ]
  },
  {
   "cell_type": "markdown",
   "id": "d787efbb-97dc-4f56-982e-fc1a797ffc22",
   "metadata": {},
   "source": [
    "For example assume an ngram_width of 2, batch size of 1, and window_size of 5. This function would take the string `the king was hunting in the forest` and output:\n",
    "\n",
    "```\n",
    "Batch 1: [\"th\", \"e \", \"ki\", \" ng\", \" w\"] -> [\"e \", \"ki\", \"ng\", \" w\", \"as\"]\n",
    "Batch 2: [\"as\", \" h\", \"un\", \"ti\", \"ng\"] -> [\" h\", \"un\", \"ti\", \"ng\", \" i\"]\n",
    "...\n",
    "```\n",
    "The left list in each batch represents the input sequence, and the right list represents the target sequence. \n",
    "\n",
    "Note how the right list is simply the left one shifted one to the right. Also note how\n",
    "there’s no overlap between the inputs in the two records. But in the actual function, we a small overlap between records is maintained."
   ]
  },
  {
   "cell_type": "code",
   "execution_count": 7,
   "id": "54914238-e91b-4e50-b8cf-b26239069ab8",
   "metadata": {
    "tags": []
   },
   "outputs": [],
   "source": [
    "def generate_tf_dataset(filenames, ngram_width, window_size, batch_size, shuffle=False):\n",
    "    \"\"\" \n",
    "    Generate batched data from a list of files speficied\n",
    "    \n",
    "    Args:\n",
    "        • filenames – A list of filenames containing the text to be used for the model\n",
    "        • ngram_width – Width of the n-grams to be extracted\n",
    "        • window_size – Length of the sequence of n-grams to be used to generate a single data\n",
    "                        point for the model\n",
    "        • batch_size – Size of the batch\n",
    "        • shuffle – (defaults to False) Whether to shuffle the data or not\n",
    "    \"\"\"\n",
    "    \n",
    "    # Read the data \n",
    "    documents = []\n",
    "    for file in filenames:\n",
    "        doc = tf.io.read_file(file)\n",
    "        doc = tf.strings.ngrams( # Create ngram from string\n",
    "                    tf.strings.bytes_split( # Split text into characters\n",
    "                         tf.strings.regex_replace( # Replace new lines with space\n",
    "                              tf.strings.lower(\n",
    "                                  doc\n",
    "                              ), \"\\n\", \" \"\n",
    "                         )\n",
    "                    ),\n",
    "                    ngram_width, separator=''\n",
    "                )\n",
    "        documents.append(doc.numpy().tolist())\n",
    "    \n",
    "    # documents is a list of list of strings, where each string is a story\n",
    "    # From that we generate a ragged tensor\n",
    "    documents = tf.ragged.constant(documents)\n",
    "    \n",
    "    # Create a dataset where each row in the ragged tensor would be a sample\n",
    "    doc_dataset = tf.data.Dataset.from_tensor_slices(documents)\n",
    "    \n",
    "    # We need to perform a quick transformation - tf.strings.ngrams would generate\n",
    "    # all the ngrams (e.g. abcd -> ab, bc, cd) with overlap, however for our data\n",
    "    # we do not need the overlap, so we need to skip the overlapping ngrams\n",
    "    # the following line does that\n",
    "    \n",
    "    # Here, we simply get rid of the overlapping n-grams by taking only every \n",
    "    # nth n-gram in the sequence:\n",
    "    doc_dataset = doc_dataset.map(lambda x: x[::ngram_width])\n",
    "    \n",
    "    # Here we are using a window function to generate windows from text\n",
    "    # For a text sequence with window_size 3 and shift 1 you get\n",
    "    # e.g. ab, cd, ef, gh, ij, ... -> [ab, cd, ef], [cd, ef, gh], [ef, gh, ij], ...\n",
    "    # each of these windows is a single training sequence for our model\n",
    "    doc_dataset = doc_dataset.flat_map(\n",
    "                        lambda x: tf.data.Dataset.from_tensor_slices(\n",
    "                                    x\n",
    "                        ).window(\n",
    "                            size=window_size+1, shift=int(window_size*0.75)\n",
    "                        ).flat_map(\n",
    "                            lambda window: window.batch(window_size+1, drop_remainder=True)\n",
    "                        )\n",
    "                  )\n",
    "    \n",
    "    # From each windowed sequence we generate input and target tuple\n",
    "    # e.g. [ab, cd, ef] -> ([ab, cd], [cd, ef])\n",
    "    doc_dataset = doc_dataset.map(lambda x: (x[:-1], x[1:]))\n",
    "    \n",
    "    # Shuffle the data if required\n",
    "    doc_dataset = doc_dataset.shuffle(buffer_size=batch_size*10) if shuffle else doc_dataset\n",
    "    \n",
    "    # Batch the Data\n",
    "    doc_dataset = doc_dataset.batch(batch_size=batch_size)\n",
    "    \n",
    "    return doc_dataset"
   ]
  },
  {
   "cell_type": "markdown",
   "id": "83d36f32-40d6-44c0-9701-1f771aea9da8",
   "metadata": {},
   "source": [
    "- A RaggedTensor is a special type of tensor that can have dimensions that accept arbitrarily sized inputs. `tf.ragged.constant()`\n",
    "\n",
    "```\n",
    "Eg.:\n",
    "    a = tf.ragged.constant([[1, 2, 3], [1,2], [1]])\n",
    "\n",
    "    b = tf.RaggedTensor.from_row_splits([1,2,3,4,5,6,7], row_splits=[0, 3, 3, 6, 7])\n",
    "\n",
    "    Here, each value in the row_splits argument defines where the subsequent row in the resulting tensor ends. For example, the first row will contain elements from index 0 to 3 (i.e. 0, 1, 2). This will output:\n",
    "\n",
    "    <tf.RaggedTensor [[1, 2, 3], [], [4, 5, 6], [7]]>\n",
    "\n",
    "    Shape: b.shape: [4, None]\n",
    "```\n",
    "- For example, it is almost impossible that all the stories would have the same number of n-grams in each as they vary from each other a lot. In this case, we will have arbitrarily long sequences of n-grams representing our stories. \n",
    "\n",
    "- Therefore, we can use a RaggedTensor to store these arbitrarily sized sequences.\n",
    "\n",
    "* **\n",
    "\n",
    "Explanation of above code\n",
    "```\n",
    "doc_dataset = doc_dataset.flat_map(\n",
    "                        lambda x: tf.data.Dataset.from_tensor_slices(\n",
    "                                    x\n",
    "                        ).window(\n",
    "                            size=window_size+1, shift=int(window_size*0.75)\n",
    "                        ).flat_map(\n",
    "                            lambda window: window.batch(window_size+1, drop_remainder=True)\n",
    "                        )\n",
    "                  )\n",
    "```\n",
    "After removing the overlapping ngrams. The dataset is transformed using `.flat_map` and `.window` to generate sliding windows of size `window_size+1` from the n-gram sequences. The windows are created with a shift that's 75% of `window_size`, leading to 25% overlapping between two consecutive sequences. Each window is then batched using `.batch` with `drop_remainder=True` to ensure consistent batch sizes.\n",
    "\n",
    "* **"
   ]
  },
  {
   "cell_type": "code",
   "execution_count": 8,
   "id": "5a456e62-7e5c-4619-a296-53dcd2a32830",
   "metadata": {
    "tags": []
   },
   "outputs": [],
   "source": [
    "ngram_length = 2\n",
    "batch_size = 128\n",
    "window_size = 128\n",
    "\n",
    "train_ds = generate_tf_dataset(train_filenames, ngram_length, \n",
    "                               batch_size, window_size, shuffle=True)\n",
    "\n",
    "valid_ds = generate_tf_dataset(valid_filenames, ngram_length, window_size, batch_size)\n",
    "test_ds = generate_tf_dataset(test_filenames, ngram_length, window_size, batch_size)"
   ]
  },
  {
   "cell_type": "markdown",
   "id": "ab56d007-8a84-402d-bf57-51886692699f",
   "metadata": {},
   "source": [
    "### Generate few samples from the dataset function"
   ]
  },
  {
   "cell_type": "code",
   "execution_count": 10,
   "id": "27513b55-79ef-4c1e-9499-0cf3e030b5b7",
   "metadata": {
    "tags": []
   },
   "outputs": [
    {
     "name": "stdout",
     "output_type": "stream",
     "text": [
      "[[b'th' b'er' b'e ' b'wa' b's ' b'on' b'ce' b' u' b'po' b'n ']] -> [[b'er' b'e ' b'wa' b's ' b'on' b'ce' b' u' b'po' b'n ' b'a ']]\n",
      "[[b' u' b'po' b'n ' b'a ' b'ti' b'me' b' a' b' s' b'he' b'ph']] -> [[b'po' b'n ' b'a ' b'ti' b'me' b' a' b' s' b'he' b'ph' b'er']]\n",
      "[[b' s' b'he' b'ph' b'er' b'd ' b'bo' b'y ' b'wh' b'os' b'e ']] -> [[b'he' b'ph' b'er' b'd ' b'bo' b'y ' b'wh' b'os' b'e ' b'fa']]\n",
      "[[b'wh' b'os' b'e ' b'fa' b'me' b' s' b'pr' b'ea' b'd ' b'fa']] -> [[b'os' b'e ' b'fa' b'me' b' s' b'pr' b'ea' b'd ' b'fa' b'r ']]\n",
      "[[b'ea' b'd ' b'fa' b'r ' b'an' b'd ' b'wi' b'de' b' b' b'ec']] -> [[b'd ' b'fa' b'r ' b'an' b'd ' b'wi' b'de' b' b' b'ec' b'au']]\n"
     ]
    }
   ],
   "source": [
    "ds = generate_tf_dataset(train_filenames, ngram_width=2, window_size=10, batch_size=1)\n",
    "\n",
    "for record in ds.take(5):\n",
    "    print(record[0].numpy(), '->', record[1].numpy())"
   ]
  },
  {
   "cell_type": "markdown",
   "id": "e2a38266-408b-49b8-aff8-b553e1a117cc",
   "metadata": {
    "jp-MarkdownHeadingCollapsed": true,
    "tags": []
   },
   "source": [
    "## Implementing the Language Model"
   ]
  },
  {
   "cell_type": "code",
   "execution_count": 11,
   "id": "490ad191-9897-4f38-b8c3-0018f17da98a",
   "metadata": {
    "tags": []
   },
   "outputs": [],
   "source": [
    "import tensorflow.keras.backend as K\n",
    "\n",
    "K.clear_session()"
   ]
  },
  {
   "cell_type": "markdown",
   "id": "afd9a438-9eeb-4b9a-8086-1628d3e29175",
   "metadata": {
    "jp-MarkdownHeadingCollapsed": true,
    "tags": []
   },
   "source": [
    "### Defining the `TextVectorization` layer\n",
    "\n",
    "define a TextVectorization layer to convert the sequences of n-grams to sequences of integer IDs:"
   ]
  },
  {
   "cell_type": "code",
   "execution_count": 12,
   "id": "c7699b2e-c5ce-404e-9bb1-e55966b7e508",
   "metadata": {
    "tags": []
   },
   "outputs": [],
   "source": [
    "from tensorflow.keras import layers\n",
    "from tensorflow.keras import models\n",
    "\n",
    "\n",
    "# The vectorization layer that will convert string bigrams to IDs\n",
    "text_vectorizer = layers.TextVectorization(max_tokens=n_vocab, standardize=None,\n",
    "                                           split=None, input_shape=(window_size,))\n",
    "\n",
    "# The the layer on data\n",
    "text_vectorizer.adapt(train_ds)"
   ]
  },
  {
   "cell_type": "code",
   "execution_count": 13,
   "id": "423a4a96-e746-4ab6-aa23-2f024e3f1cd0",
   "metadata": {
    "tags": []
   },
   "outputs": [
    {
     "data": {
      "text/plain": [
       "['', '[UNK]', 'e ', 'he', ' t', 'th', 'd ', ' a', ', ', ' h']"
      ]
     },
     "execution_count": 13,
     "metadata": {},
     "output_type": "execute_result"
    }
   ],
   "source": [
    "text_vectorizer.get_vocabulary()[:10]"
   ]
  },
  {
   "cell_type": "markdown",
   "id": "36bfec81-553b-4d5c-9c33-519f7db6d170",
   "metadata": {},
   "source": [
    "**Convert the targets from string ngrams to ngram IDs:**\n",
    "\n",
    "Remember that our data pipelines output sequences of n-gram strings as inputs and targets. We need to convert the target sequences to sequences of n-gram IDs so that a loss can be computed"
   ]
  },
  {
   "cell_type": "code",
   "execution_count": 14,
   "id": "50184277-2f62-4918-aad2-9df4e933b2be",
   "metadata": {
    "tags": []
   },
   "outputs": [],
   "source": [
    "train_ds = train_ds.map(lambda x, y: (x, text_vectorizer(y)))\n",
    "valid_ds = valid_ds.map(lambda x, y: (x, text_vectorizer(y)))\n",
    "test_ds = test_ds.map(lambda x, y: (x, text_vectorizer(y)))"
   ]
  },
  {
   "cell_type": "markdown",
   "id": "0573c83b-a0dd-49d8-bc38-ef7a76fe926f",
   "metadata": {
    "jp-MarkdownHeadingCollapsed": true,
    "tags": []
   },
   "source": [
    "### Defining the LSTM model"
   ]
  },
  {
   "cell_type": "markdown",
   "id": "e7523762-9f24-48ec-b94a-49feddaadbfe",
   "metadata": {},
   "source": [
    "Our model will have:\n",
    "- The previously trained TextVectorization layer\n",
    "- An embedding layer randomly initialized and jointly trained with the model\n",
    "- Two LSTM layers each with 512 and 256 nodes respectively\n",
    "- A fully-connected hidden layer with 1024 nodes and `ReLU` activation\n",
    "- The final prediction layer with `n_vocab` nodes and `softmax` activation"
   ]
  },
  {
   "cell_type": "code",
   "execution_count": 15,
   "id": "d7eb9f49-ea5e-4e3b-8fd2-55e1203e1408",
   "metadata": {
    "tags": []
   },
   "outputs": [],
   "source": [
    "K.clear_session()\n",
    "\n",
    "lm_model = models.Sequential([text_vectorizer,\n",
    "                              layers.Embedding(input_dim=n_vocab+2, output_dim=96),\n",
    "                              layers.LSTM(512, return_state=False, return_sequences=True),\n",
    "                              layers.LSTM(256, return_state=False, return_sequences=True),\n",
    "                              layers.Dense(1024, activation='relu'),\n",
    "                              layers.Dropout(0.5),\n",
    "                              layers.Dense(n_vocab, activation='softmax')\n",
    "                             ])"
   ]
  },
  {
   "cell_type": "markdown",
   "id": "12751bf0-ebc4-4b34-bf8b-41d252e1abe8",
   "metadata": {},
   "source": [
    "`K.clear_session()`, which is a function that clears the current TensorFlow session (e.g. layers and variables defined and their states). Otherwise, if you run multiple times in a notebook, it will create an unnecessary number of layers and variables.\n",
    "\n",
    "Parameters of the LSTM layer in more detail:\n",
    "- `return_state` – Setting this to `False` means that the layer outputs only the final output, whereas if set to `True`, it will return state vectors along with the final output of the layer. For example, for an LSTM layer, setting `return_state=True` means you’ll get three outputs: the final output, cell state, and hidden state. Note that the final output and the hidden state will be identical in this case.\n",
    "\n",
    "- `return_sequences` – Setting this to true will cause the layer to output the full output sequences, as opposed to just the last output. For example, setting this to `False` will give you a `[b, n]`-sized output where `b` is the batch size and` n` is the number of nodes in the layer. If `True`, it will output a `[b, t, n]`-sized output, where `t` is the number of time steps.\n"
   ]
  },
  {
   "cell_type": "code",
   "execution_count": 16,
   "id": "10abcfd0-056e-4cbe-953c-16900214276e",
   "metadata": {
    "tags": []
   },
   "outputs": [
    {
     "name": "stdout",
     "output_type": "stream",
     "text": [
      "Model: \"sequential\"\n",
      "_________________________________________________________________\n",
      " Layer (type)                Output Shape              Param #   \n",
      "=================================================================\n",
      " text_vectorization (TextVec  (None, 128)              0         \n",
      " torization)                                                     \n",
      "                                                                 \n",
      " embedding (Embedding)       (None, 128, 96)           67872     \n",
      "                                                                 \n",
      " lstm (LSTM)                 (None, 128, 512)          1247232   \n",
      "                                                                 \n",
      " lstm_1 (LSTM)               (None, 128, 256)          787456    \n",
      "                                                                 \n",
      " dense (Dense)               (None, 128, 1024)         263168    \n",
      "                                                                 \n",
      " dropout (Dropout)           (None, 128, 1024)         0         \n",
      "                                                                 \n",
      " dense_1 (Dense)             (None, 128, 705)          722625    \n",
      "                                                                 \n",
      "=================================================================\n",
      "Total params: 3,088,353\n",
      "Trainable params: 3,088,353\n",
      "Non-trainable params: 0\n",
      "_________________________________________________________________\n"
     ]
    }
   ],
   "source": [
    "lm_model.summary()"
   ]
  },
  {
   "cell_type": "markdown",
   "id": "59af1247-5ad4-44a7-ad93-8614fa67b26b",
   "metadata": {
    "jp-MarkdownHeadingCollapsed": true,
    "tags": []
   },
   "source": [
    "### Defining metrics and compiling the model\n",
    "\n",
    "- [Evaluation Metrics for Language Modeling - Chip Hyuen](https://thegradient.pub/understanding-evaluation-metrics-for-language-models/)\n",
    "\n",
    "- [A Gentle Introduction to Information Entropy - mlmastery](https://machinelearningmastery.com/what-is-information-entropy/)"
   ]
  },
  {
   "cell_type": "markdown",
   "id": "786965af-3c94-427d-9b73-ec9e6eb5f57a",
   "metadata": {},
   "source": [
    "Accuracy is used as a general-purpose evaluation metric across different ML tasks. However, accuracy might not be cut out for this task, mainly because it relies on the model choosing the exact word/bigram for a given time step as in the dataset. However, languages are complex and there can be many different choices to generate the next word/bigram given a text. Therefore, NLP practitioners rely on a metric known as **perplexity**, \n",
    "\n",
    "- **Perplexity** *measures how \"perplexed\" or “surprised” the model was to see a `t+1` bigram given `1:t` bigrams.*\n",
    "\n",
    "- **Perplexity is simply the entropy to the power of two.** \n",
    "\n",
    "- Entropy is a measure of the uncertainty or randomness of an event. The more uncertain the outcome of the event, the higher the entropy. Entropy Formula is:\n",
    "\n",
    "$$H(X) = - \\sum_{x \\forall X}p(x) \\log(p(x))$$\n",
    "\n",
    "- In machine learning, to optimize ML models, *we measure the difference between the predicted probability distribution versus the target probability distribution for a given sample*. For that, we use **cross-entropy**, an extension of entropy for two distributions: \n",
    "\n",
    "$$\\text{Categorical Crossentropy}(\\hat{y}_i, y_i) = - \\sum_{c=1}^{c}y_{i,c}\\log(\\hat{y}_{i,c})$$\n",
    "\n",
    "Finally, we define perplexity as:\n",
    "\n",
    "$$Perplexity = 2^{H(X)}$$"
   ]
  },
  {
   "cell_type": "code",
   "execution_count": 17,
   "id": "7c2ffdda-d398-46ae-8c75-62437bc1ff21",
   "metadata": {
    "tags": []
   },
   "outputs": [],
   "source": [
    "# Inspired by https://gist.github.com/Gregorgeous/dbad1ec22efc250c76354d949a13cec3\n",
    "class PerplexityMetric(tf.keras.metrics.Mean):\n",
    "    \n",
    "    def __init__(self, name='perplexity', **kwargs):\n",
    "        super().__init__(name=name, **kwargs)\n",
    "        self.cross_entropy = tf.keras.losses.SparseCategoricalCrossentropy(from_logits=False, \n",
    "                                                                           reduction='none')\n",
    "\n",
    "    def _calculate_perplexity(self, real, pred):\n",
    "        # The next 4 lines zero-out the padding from loss calculations, \n",
    "        # this follows the logic from: https://www.tensorflow.org/beta/tutorials/text/transformer#loss_and_metrics \t\t\t      \n",
    "        loss_ = self.cross_entropy(real, pred)\n",
    "      \n",
    "        # Calculating the perplexity steps: \n",
    "        step1 = K.mean(loss_, axis=-1)\n",
    "        perplexity = K.exp(step1)\n",
    "\n",
    "        return perplexity \n",
    "\n",
    "    def update_state(self, y_true, y_pred, sample_weight=None):            \n",
    "        perplexity = self._calculate_perplexity(y_true, y_pred)\n",
    "        # Remember self.perplexity is a tensor (tf.Variable), \n",
    "        # so using simply \"self.perplexity = perplexity\" will result in error \n",
    "        # because of mixing EagerTensor and Graph operations \n",
    "        super().update_state(perplexity)"
   ]
  },
  {
   "cell_type": "code",
   "execution_count": 18,
   "id": "72b0e227-468b-4591-944d-6af238620cd9",
   "metadata": {
    "tags": []
   },
   "outputs": [
    {
     "name": "stdout",
     "output_type": "stream",
     "text": [
      "Model: \"sequential\"\n",
      "_________________________________________________________________\n",
      " Layer (type)                Output Shape              Param #   \n",
      "=================================================================\n",
      " text_vectorization (TextVec  (None, 128)              0         \n",
      " torization)                                                     \n",
      "                                                                 \n",
      " embedding (Embedding)       (None, 128, 96)           67872     \n",
      "                                                                 \n",
      " lstm (LSTM)                 (None, 128, 512)          1247232   \n",
      "                                                                 \n",
      " lstm_1 (LSTM)               (None, 128, 256)          787456    \n",
      "                                                                 \n",
      " dense (Dense)               (None, 128, 1024)         263168    \n",
      "                                                                 \n",
      " dropout (Dropout)           (None, 128, 1024)         0         \n",
      "                                                                 \n",
      " dense_1 (Dense)             (None, 128, 705)          722625    \n",
      "                                                                 \n",
      "=================================================================\n",
      "Total params: 3,088,353\n",
      "Trainable params: 3,088,353\n",
      "Non-trainable params: 0\n",
      "_________________________________________________________________\n"
     ]
    }
   ],
   "source": [
    "lm_model.compile(loss='sparse_categorical_crossentropy', \n",
    "                 optimizer='adam', \n",
    "                 metrics=['accuracy', PerplexityMetric()])\n",
    "\n",
    "lm_model.summary()"
   ]
  },
  {
   "cell_type": "markdown",
   "id": "6ca345cf-7839-40bd-aabe-90af3edb7596",
   "metadata": {
    "jp-MarkdownHeadingCollapsed": true,
    "tags": []
   },
   "source": [
    "### Training the model"
   ]
  },
  {
   "cell_type": "code",
   "execution_count": 19,
   "id": "9f712223-5f32-48ff-a19f-fd1ff80d96ac",
   "metadata": {
    "scrolled": true,
    "tags": []
   },
   "outputs": [
    {
     "name": "stdout",
     "output_type": "stream",
     "text": [
      "Epoch 1/50\n",
      "49/49 [==============================] - 16s 103ms/step - loss: 5.3574 - accuracy: 0.0313 - perplexity: 236.6229 - val_loss: 5.1160 - val_accuracy: 0.0392 - val_perplexity: 167.7276\n",
      "Epoch 2/50\n",
      "49/49 [==============================] - 5s 89ms/step - loss: 5.1417 - accuracy: 0.0343 - perplexity: 172.5728 - val_loss: 5.0897 - val_accuracy: 0.0391 - val_perplexity: 163.5045\n",
      "Epoch 3/50\n",
      "49/49 [==============================] - 5s 89ms/step - loss: 5.0430 - accuracy: 0.0411 - perplexity: 156.8100 - val_loss: 4.8478 - val_accuracy: 0.0641 - val_perplexity: 128.6614\n",
      "Epoch 4/50\n",
      "49/49 [==============================] - 5s 90ms/step - loss: 4.7109 - accuracy: 0.0855 - perplexity: 113.4167 - val_loss: 4.4596 - val_accuracy: 0.1093 - val_perplexity: 87.6380\n",
      "Epoch 5/50\n",
      "49/49 [==============================] - 5s 91ms/step - loss: 4.3246 - accuracy: 0.1286 - perplexity: 77.6538 - val_loss: 4.0495 - val_accuracy: 0.1691 - val_perplexity: 58.2740\n",
      "Epoch 6/50\n",
      "49/49 [==============================] - 5s 92ms/step - loss: 3.9939 - accuracy: 0.1747 - perplexity: 55.6593 - val_loss: 3.7892 - val_accuracy: 0.2000 - val_perplexity: 44.9869\n",
      "Epoch 7/50\n",
      "49/49 [==============================] - 5s 90ms/step - loss: 3.7862 - accuracy: 0.2038 - perplexity: 45.1777 - val_loss: 3.6240 - val_accuracy: 0.2239 - val_perplexity: 38.2187\n",
      "Epoch 8/50\n",
      "49/49 [==============================] - 5s 90ms/step - loss: 3.6411 - accuracy: 0.2223 - perplexity: 39.0766 - val_loss: 3.4991 - val_accuracy: 0.2431 - val_perplexity: 33.7668\n",
      "Epoch 9/50\n",
      "49/49 [==============================] - 5s 91ms/step - loss: 3.5322 - accuracy: 0.2381 - perplexity: 35.0634 - val_loss: 3.4008 - val_accuracy: 0.2537 - val_perplexity: 30.6402\n",
      "Epoch 10/50\n",
      "49/49 [==============================] - 5s 90ms/step - loss: 3.4420 - accuracy: 0.2498 - perplexity: 32.0595 - val_loss: 3.3197 - val_accuracy: 0.2679 - val_perplexity: 28.3063\n",
      "Epoch 11/50\n",
      "49/49 [==============================] - 5s 91ms/step - loss: 3.3693 - accuracy: 0.2582 - perplexity: 29.8282 - val_loss: 3.2522 - val_accuracy: 0.2728 - val_perplexity: 26.4697\n",
      "Epoch 12/50\n",
      "49/49 [==============================] - 5s 90ms/step - loss: 3.3022 - accuracy: 0.2669 - perplexity: 27.9060 - val_loss: 3.1920 - val_accuracy: 0.2832 - val_perplexity: 24.9465\n",
      "Epoch 13/50\n",
      "49/49 [==============================] - 5s 90ms/step - loss: 3.2423 - accuracy: 0.2747 - perplexity: 26.2994 - val_loss: 3.1321 - val_accuracy: 0.2898 - val_perplexity: 23.5212\n",
      "Epoch 14/50\n",
      "49/49 [==============================] - 5s 90ms/step - loss: 3.1897 - accuracy: 0.2825 - perplexity: 24.9643 - val_loss: 3.0870 - val_accuracy: 0.2950 - val_perplexity: 22.5359\n",
      "Epoch 15/50\n",
      "49/49 [==============================] - 5s 91ms/step - loss: 3.1370 - accuracy: 0.2893 - perplexity: 23.6892 - val_loss: 3.0386 - val_accuracy: 0.3036 - val_perplexity: 21.4967\n",
      "Epoch 16/50\n",
      "49/49 [==============================] - 5s 91ms/step - loss: 3.0921 - accuracy: 0.2967 - perplexity: 22.6568 - val_loss: 2.9989 - val_accuracy: 0.3127 - val_perplexity: 20.6514\n",
      "Epoch 17/50\n",
      "49/49 [==============================] - 5s 89ms/step - loss: 3.0505 - accuracy: 0.3031 - perplexity: 21.7395 - val_loss: 2.9680 - val_accuracy: 0.3156 - val_perplexity: 20.0589\n",
      "Epoch 18/50\n",
      "49/49 [==============================] - 5s 90ms/step - loss: 3.0112 - accuracy: 0.3088 - perplexity: 20.9100 - val_loss: 2.9235 - val_accuracy: 0.3242 - val_perplexity: 19.1722\n",
      "Epoch 19/50\n",
      "49/49 [==============================] - 5s 90ms/step - loss: 2.9757 - accuracy: 0.3145 - perplexity: 20.1797 - val_loss: 2.8949 - val_accuracy: 0.3309 - val_perplexity: 18.6385\n",
      "Epoch 20/50\n",
      "49/49 [==============================] - 5s 91ms/step - loss: 2.9390 - accuracy: 0.3201 - perplexity: 19.4621 - val_loss: 2.8602 - val_accuracy: 0.3330 - val_perplexity: 18.0560\n",
      "Epoch 21/50\n",
      "49/49 [==============================] - 5s 91ms/step - loss: 2.9058 - accuracy: 0.3255 - perplexity: 18.8349 - val_loss: 2.8324 - val_accuracy: 0.3409 - val_perplexity: 17.5498\n",
      "Epoch 22/50\n",
      "49/49 [==============================] - 5s 90ms/step - loss: 2.8733 - accuracy: 0.3308 - perplexity: 18.2291 - val_loss: 2.8028 - val_accuracy: 0.3455 - val_perplexity: 17.0424\n",
      "Epoch 23/50\n",
      "49/49 [==============================] - 5s 91ms/step - loss: 2.8435 - accuracy: 0.3353 - perplexity: 17.6964 - val_loss: 2.7791 - val_accuracy: 0.3487 - val_perplexity: 16.6734\n",
      "Epoch 24/50\n",
      "49/49 [==============================] - 5s 91ms/step - loss: 2.8169 - accuracy: 0.3389 - perplexity: 17.2369 - val_loss: 2.7544 - val_accuracy: 0.3526 - val_perplexity: 16.2648\n",
      "Epoch 25/50\n",
      "49/49 [==============================] - 5s 91ms/step - loss: 2.7882 - accuracy: 0.3438 - perplexity: 16.7523 - val_loss: 2.7337 - val_accuracy: 0.3565 - val_perplexity: 15.9622\n",
      "Epoch 26/50\n",
      "49/49 [==============================] - 5s 90ms/step - loss: 2.7639 - accuracy: 0.3470 - perplexity: 16.3533 - val_loss: 2.7094 - val_accuracy: 0.3607 - val_perplexity: 15.5770\n",
      "Epoch 27/50\n",
      "49/49 [==============================] - 5s 91ms/step - loss: 2.7395 - accuracy: 0.3515 - perplexity: 15.9553 - val_loss: 2.6863 - val_accuracy: 0.3653 - val_perplexity: 15.2258\n",
      "Epoch 28/50\n",
      "49/49 [==============================] - 5s 90ms/step - loss: 2.7162 - accuracy: 0.3548 - perplexity: 15.5907 - val_loss: 2.6703 - val_accuracy: 0.3663 - val_perplexity: 14.9835\n",
      "Epoch 29/50\n",
      "49/49 [==============================] - 5s 90ms/step - loss: 2.6958 - accuracy: 0.3578 - perplexity: 15.2702 - val_loss: 2.6534 - val_accuracy: 0.3692 - val_perplexity: 14.7447\n",
      "Epoch 30/50\n",
      "49/49 [==============================] - 5s 89ms/step - loss: 2.6758 - accuracy: 0.3611 - perplexity: 14.9694 - val_loss: 2.6340 - val_accuracy: 0.3739 - val_perplexity: 14.4595\n",
      "Epoch 31/50\n",
      "49/49 [==============================] - 5s 90ms/step - loss: 2.6575 - accuracy: 0.3638 - perplexity: 14.7001 - val_loss: 2.6190 - val_accuracy: 0.3754 - val_perplexity: 14.2553\n",
      "Epoch 32/50\n",
      "49/49 [==============================] - 5s 90ms/step - loss: 2.6369 - accuracy: 0.3666 - perplexity: 14.3980 - val_loss: 2.6054 - val_accuracy: 0.3781 - val_perplexity: 14.0761\n",
      "Epoch 33/50\n",
      "49/49 [==============================] - 5s 90ms/step - loss: 2.6200 - accuracy: 0.3695 - perplexity: 14.1564 - val_loss: 2.5915 - val_accuracy: 0.3804 - val_perplexity: 13.8923\n",
      "Epoch 34/50\n",
      "49/49 [==============================] - 5s 90ms/step - loss: 2.6035 - accuracy: 0.3721 - perplexity: 13.9283 - val_loss: 2.5790 - val_accuracy: 0.3826 - val_perplexity: 13.7090\n",
      "Epoch 35/50\n",
      "49/49 [==============================] - 5s 90ms/step - loss: 2.5869 - accuracy: 0.3751 - perplexity: 13.6959 - val_loss: 2.5615 - val_accuracy: 0.3874 - val_perplexity: 13.4711\n",
      "Epoch 36/50\n",
      "49/49 [==============================] - 5s 91ms/step - loss: 2.5700 - accuracy: 0.3779 - perplexity: 13.4654 - val_loss: 2.5496 - val_accuracy: 0.3895 - val_perplexity: 13.3332\n",
      "Epoch 37/50\n",
      "49/49 [==============================] - 5s 91ms/step - loss: 2.5542 - accuracy: 0.3803 - perplexity: 13.2560 - val_loss: 2.5383 - val_accuracy: 0.3908 - val_perplexity: 13.1801\n",
      "Epoch 38/50\n",
      "49/49 [==============================] - 5s 90ms/step - loss: 2.5417 - accuracy: 0.3819 - perplexity: 13.0840 - val_loss: 2.5306 - val_accuracy: 0.3923 - val_perplexity: 13.0859\n",
      "Epoch 39/50\n",
      "49/49 [==============================] - 5s 91ms/step - loss: 2.5270 - accuracy: 0.3840 - perplexity: 12.8916 - val_loss: 2.5185 - val_accuracy: 0.3944 - val_perplexity: 12.9581\n",
      "Epoch 40/50\n",
      "49/49 [==============================] - 5s 90ms/step - loss: 2.5122 - accuracy: 0.3867 - perplexity: 12.7047 - val_loss: 2.5029 - val_accuracy: 0.3978 - val_perplexity: 12.7248\n",
      "Epoch 41/50\n",
      "49/49 [==============================] - 5s 91ms/step - loss: 2.4994 - accuracy: 0.3887 - perplexity: 12.5413 - val_loss: 2.4988 - val_accuracy: 0.3989 - val_perplexity: 12.6927\n",
      "Epoch 42/50\n",
      "49/49 [==============================] - 5s 90ms/step - loss: 2.4866 - accuracy: 0.3909 - perplexity: 12.3762 - val_loss: 2.4901 - val_accuracy: 0.4002 - val_perplexity: 12.5803\n",
      "Epoch 43/50\n",
      "49/49 [==============================] - 5s 90ms/step - loss: 2.4761 - accuracy: 0.3924 - perplexity: 12.2485 - val_loss: 2.4790 - val_accuracy: 0.4011 - val_perplexity: 12.4577\n",
      "Epoch 44/50\n",
      "49/49 [==============================] - 5s 90ms/step - loss: 2.4618 - accuracy: 0.3947 - perplexity: 12.0729 - val_loss: 2.4694 - val_accuracy: 0.4033 - val_perplexity: 12.3310\n",
      "Epoch 45/50\n",
      "49/49 [==============================] - 5s 90ms/step - loss: 2.4514 - accuracy: 0.3964 - perplexity: 11.9455 - val_loss: 2.4618 - val_accuracy: 0.4050 - val_perplexity: 12.2443\n",
      "Epoch 46/50\n",
      "49/49 [==============================] - 5s 90ms/step - loss: 2.4390 - accuracy: 0.3979 - perplexity: 11.7938 - val_loss: 2.4549 - val_accuracy: 0.4064 - val_perplexity: 12.1584\n",
      "Epoch 47/50\n",
      "49/49 [==============================] - 5s 90ms/step - loss: 2.4303 - accuracy: 0.4000 - perplexity: 11.6893 - val_loss: 2.4475 - val_accuracy: 0.4078 - val_perplexity: 12.0903\n",
      "Epoch 48/50\n",
      "49/49 [==============================] - 5s 90ms/step - loss: 2.4190 - accuracy: 0.4017 - perplexity: 11.5577 - val_loss: 2.4458 - val_accuracy: 0.4076 - val_perplexity: 12.0658\n",
      "Epoch 49/50\n",
      "49/49 [==============================] - 5s 90ms/step - loss: 2.4096 - accuracy: 0.4032 - perplexity: 11.4512 - val_loss: 2.4315 - val_accuracy: 0.4111 - val_perplexity: 11.8873\n",
      "Epoch 50/50\n",
      "49/49 [==============================] - 5s 90ms/step - loss: 2.3975 - accuracy: 0.4052 - perplexity: 11.3087 - val_loss: 2.4278 - val_accuracy: 0.4120 - val_perplexity: 11.8554\n"
     ]
    }
   ],
   "source": [
    "lstm_history = lm_model.fit(train_ds, \n",
    "                            validation_data=valid_ds, \n",
    "                            epochs=50, workers=10)"
   ]
  },
  {
   "cell_type": "code",
   "execution_count": 21,
   "id": "1837405f-9330-4a16-8021-3281fb110854",
   "metadata": {
    "tags": []
   },
   "outputs": [
    {
     "name": "stdout",
     "output_type": "stream",
     "text": [
      "5/5 [==============================] - 0s 35ms/step - loss: 2.4894 - accuracy: 0.3929 - perplexity: 12.4782\n"
     ]
    },
    {
     "data": {
      "text/plain": [
       "[2.489412307739258, 0.39288926124572754, 12.47815990447998]"
      ]
     },
     "execution_count": 21,
     "metadata": {},
     "output_type": "execute_result"
    }
   ],
   "source": [
    "lm_model.evaluate(test_ds)"
   ]
  },
  {
   "cell_type": "markdown",
   "id": "4bf0c79c-267b-4284-9fe1-4f89d5dbe89c",
   "metadata": {
    "jp-MarkdownHeadingCollapsed": true,
    "tags": []
   },
   "source": [
    "## Defining the inference model\n",
    "\n",
    "Inferring from the trained model"
   ]
  },
  {
   "cell_type": "markdown",
   "id": "d08d4855-96b8-4954-af91-df4e75166975",
   "metadata": {},
   "source": [
    "- During training, we trained our model and evaluated it on sequences of bigrams. This works for us because during training and evaluation, we have the full text available to us. However, when we need to generate new text, we do not have anything available to us. Therefore, we have to make adjustments to our trained model so that it can generate text from scratch.\n",
    "\n",
    "- The way we do this is by defining a recursive model that takes the current time step’s output of the model as the input to the next time step. This way we can keep predicting words/bigrams for an infinite number of steps. We provide the initial seed as a random word/bigram picked from the corpus (or even a sequence of bigrams). \n",
    "\n",
    "<div align='center'>\n",
    "    <img src=\"images/infer_model_arch.png\"/>\n",
    "</div>\n",
    "\n",
    "Our inference model is going to be comparatively more sophisticated, as we need to design an iterative process to generate text using previous predictions as inputs."
   ]
  },
  {
   "cell_type": "code",
   "execution_count": 22,
   "id": "b70756ea-6aeb-4929-b119-d0132641deb2",
   "metadata": {},
   "outputs": [
    {
     "name": "stdout",
     "output_type": "stream",
     "text": [
      "Model: \"model\"\n",
      "__________________________________________________________________________________________________\n",
      " Layer (type)                   Output Shape         Param #     Connected to                     \n",
      "==================================================================================================\n",
      " input_1 (InputLayer)           [(None, 1)]          0           []                               \n",
      "                                                                                                  \n",
      " text_vectorization (TextVector  multiple            0           ['input_1[0][0]']                \n",
      " ization)                                                                                         \n",
      "                                                                                                  \n",
      " embedding (Embedding)          multiple             67872       ['text_vectorization[1][0]']     \n",
      "                                                                                                  \n",
      " input_2 (InputLayer)           [(None, 512)]        0           []                               \n",
      "                                                                                                  \n",
      " input_3 (InputLayer)           [(None, 512)]        0           []                               \n",
      "                                                                                                  \n",
      " lstm_2 (LSTM)                  [(None, 1, 512),     1247232     ['embedding[1][0]',              \n",
      "                                 (None, 512),                     'input_2[0][0]',                \n",
      "                                 (None, 512)]                     'input_3[0][0]']                \n",
      "                                                                                                  \n",
      " input_4 (InputLayer)           [(None, 256)]        0           []                               \n",
      "                                                                                                  \n",
      " input_5 (InputLayer)           [(None, 256)]        0           []                               \n",
      "                                                                                                  \n",
      " lstm_3 (LSTM)                  [(None, 1, 256),     787456      ['lstm_2[0][0]',                 \n",
      "                                 (None, 256),                     'input_4[0][0]',                \n",
      "                                 (None, 256)]                     'input_5[0][0]']                \n",
      "                                                                                                  \n",
      " dense (Dense)                  multiple             263168      ['lstm_3[0][0]']                 \n",
      "                                                                                                  \n",
      " dense_1 (Dense)                multiple             722625      ['dense[1][0]']                  \n",
      "                                                                                                  \n",
      "==================================================================================================\n",
      "Total params: 3,088,353\n",
      "Trainable params: 3,088,353\n",
      "Non-trainable params: 0\n",
      "__________________________________________________________________________________________________\n"
     ]
    }
   ],
   "source": [
    "# defining inputs to the model\n",
    "inp = layers.Input(dtype=tf.string, shape=(1,))\n",
    "\n",
    "inp_state_c_lstm = layers.Input(shape=(512,))\n",
    "inp_state_h_lstm = layers.Input(shape=(512,))\n",
    "inp_state_c_lstm_1 = layers.Input(shape=(256,))\n",
    "inp_state_h_lstm_1 = layers.Input(shape=(256,))\n",
    "\n",
    "text_vectorized_out = lm_model.get_layer('text_vectorization')(inp)\n",
    "\n",
    "# defining embedding layer and output\n",
    "emb_layer = lm_model.get_layer('embedding')\n",
    "emb_out = emb_layer(text_vectorized_out)\n",
    "\n",
    "# defining a LSTM layer and output\n",
    "lstm_layer = layers.LSTM(512, return_state=True, return_sequences=True)\n",
    "lstm_out, lstm_state_c, lstm_state_h = lstm_layer(emb_out, initial_state=[inp_state_c_lstm, inp_state_h_lstm])\n",
    "\n",
    "lstm_1_layer = layers.LSTM(256, return_state=True, return_sequences=True)\n",
    "lstm_1_out, lstm_1_state_c, lstm_1_state_h = lstm_1_layer(lstm_out, initial_state=[inp_state_c_lstm_1, inp_state_h_lstm_1])\n",
    "\n",
    "# Defining a Dense layer and output\n",
    "dense_out = lm_model.get_layer('dense')(lstm_1_out)\n",
    "\n",
    "# defining the final dense layer and output\n",
    "final_out = lm_model.get_layer('dense_1')(dense_out)\n",
    "\n",
    "# Copy weights from the original model\n",
    "lstm_layer.set_weights(lm_model.get_layer('lstm').get_weights())\n",
    "lstm_1_layer.set_weights(lm_model.get_layer('lstm_1').get_weights())\n",
    "\n",
    "# Defining final model\n",
    "infer_model = tf.keras.models.Model(inputs=[inp, inp_state_c_lstm, inp_state_h_lstm,\n",
    "                                            inp_state_c_lstm_1, inp_state_h_lstm_1],\n",
    "                                    outputs=[final_out, lstm_state_c, lstm_state_h,\n",
    "                                             lstm_1_state_c, lstm_1_state_h])\n",
    "\n",
    "# model summary\n",
    "infer_model.summary()"
   ]
  },
  {
   "cell_type": "markdown",
   "id": "21a9f357-90e6-4a5b-88a5-88499aba8b51",
   "metadata": {},
   "source": [
    "- We start by defining an input layer that takes an input having one time step. \n",
    "\n",
    "- Note that we are defining the shape argument. This means it can accept an arbitrarily sized batch of data (as long as it has one time step). We also define several other inputs to maintain the states of the LSTM layers we have. This is because we have to maintain state vectors of LSTM layers explicitly as we are recursively generating outputs from the model:\n",
    "\n",
    "```\n",
    "inp = layers.Input(dtype=tf.string, shape=(1,))\n",
    "\n",
    "inp_state_c_lstm = layers.Input(shape=(512,))\n",
    "inp_state_h_lstm = layers.Input(shape=(512,))\n",
    "inp_state_c_lstm_1 = layers.Input(shape=(256,))\n",
    "inp_state_h_lstm_1 = layers.Input(shape=(256,))\n",
    "```\n",
    "* **\n",
    "\n",
    "- Next we retrieve the trained model’s text_vectorization layer and transform the text to integer IDs using it:\n",
    "\n",
    "```\n",
    "text_vectorized_out = lm_model.get_layer('text_vectorization')(inp)\n",
    "```\n",
    "\n",
    "* **\n",
    "\n",
    "- Then we obtain the embeddings layer of the train model and use it to generate the embedding output:\n",
    "```\n",
    "emb_layer = lm_model.get_layer('embedding')\n",
    "emb_out = emb_layer(text_vectorized_out)\n",
    "```\n",
    "\n",
    "* **\n",
    "\n",
    "- We will create a fresh new LSTM layer to represent the first LSTM layer in the trained model. This is because the inference LSTM layers will have slight differences to the trained LSTM layers. Therefore, we will define new layers and copy the trained weights over later. \n",
    "\n",
    "- We set the `return_state` argument to `True`. By setting this to `True` we get three outputs when we call the layer with an input: `the final output`, `the cell state`, and the `final state vector`. \n",
    "\n",
    "- Note how we are also passing another argument called `initial_state`. The `initial_state` needs to be a list of tensors: the cell state and the final state vector, in that order. \n",
    "\n",
    "- We are passing the input layers as those states and will populate them accordingly during runtime:\n",
    "```\n",
    "lstm_layer = layers.LSTM(512, return_state=True, return_sequences=True)\n",
    "lstm_out, lstm_state_c, lstm_state_h = lstm_layer(emb_out, initial_state= \n",
    "                                                 [inp_state_c_lstm, inp_state_h_lstm])\n",
    "```\n",
    "\n",
    "* **\n",
    "- Similarly, the second LSTM layer will be defined. We get the dense layers and replicate the fully connected layers found in the trained model. Note that we don’t use `softmax` in the last layer. This is because at inference time `softmax` is only an overhead, as we only need the output class with the highest output score (i.e. it doesn’t need to be a probability distribution):\n",
    "```\n",
    "# Defining a Dense layer and output\n",
    "dense_out = lm_model.get_layer('dense')(lstm_1_out)\n",
    "\n",
    "# defining the final dense layer and output\n",
    "final_out = lm_model.get_layer('dense_1')(dense_out)\n",
    "```\n",
    "\n",
    "- Don’t forget to copy the weights of the trained LSTM layers to our newly created LSTM layers:\n",
    "```\n",
    "# Copy weights from the original model\n",
    "lstm_layer.set_weights(lm_model.get_layer('lstm').get_weights())\n",
    "lstm_1_layer.set_weights(lm_model.get_layer('lstm_1').get_weights())\n",
    "```\n",
    "\n",
    "- Finally, we define the model:\n",
    "```\n",
    "# Defining final model\n",
    "infer_model = tf.keras.models.Model(inputs=[inp, inp_state_c_lstm, inp_state_h_lstm,\n",
    "                                            inp_state_c_lstm_1, inp_state_h_lstm_1],\n",
    "                                    outputs=[final_out, lstm_state_c, lstm_state_h,\n",
    "                                             lstm_1_state_c, lstm_1_state_h])\n",
    "```\n",
    "\n",
    "Our model takes a sequence of 1 bigram as the input, along with state vectors of both LSTM layers, and outputs the final prediction probabilities and the new state vectors of both LSTM layers."
   ]
  },
  {
   "cell_type": "markdown",
   "id": "2358ac96-476b-4cc3-b89d-a1b0e5ee31e1",
   "metadata": {},
   "source": [
    "## Generating new text with the model"
   ]
  },
  {
   "cell_type": "markdown",
   "id": "2c563893-8974-47bd-b617-bdac18f186d4",
   "metadata": {},
   "source": [
    "Here, we take the first phrase from one of the test files. Then we use it to generate text recursively, by using the predicted bigram at time t as the input at time t+1. We will run this for 500 steps:"
   ]
  },
  {
   "cell_type": "code",
   "execution_count": 26,
   "id": "968182f5-b432-4543-b198-61039170e354",
   "metadata": {
    "tags": []
   },
   "outputs": [
    {
     "name": "stdout",
     "output_type": "stream",
     "text": [
      "Making predictions from a 58 element long input\n",
      "\n",
      "\n",
      "============================================================\n",
      "Final text: \n",
      "When adam and eve were driven out of paradise, they were compelled to build a house for themselves on barren groundd into the forest, and then the king's daughter walked the tailor of them to the golden of the world be the water.  that is they were.  the king's daughters was about to the forest, and the king's daughter, and then this there was about to the forest, and the king's daughter was to the world.  then the king's daughter.  the king's daughter, and then the king's daughter was not been to the king's daughter, and they were all the tree, and then the king's daughter was to the world, answered the tailor they were to the golden, and then the king's daughter was, and then they were to the golden, and then the king's daughter, and then the king's daughter walked the tailor of them to the golden of the world, and the king's daughter was to the world.  then the king's daughter was not been to the king's daughter, and then the king's daughter was to the world, and the king's daughter was to the world and said, it was now the king's daughter another, and then the king's daughter's.\" the king's daugh\n"
     ]
    }
   ],
   "source": [
    "import numpy as np\n",
    "\n",
    "text = [\"When adam and eve were driven out of paradise, they were compelled to build a house for themselves on barren ground\"]\n",
    "\n",
    "seq = [text[0][i:i+2] for i in range(0, len(text[0]), 2)]\n",
    "\n",
    "# build up model state using the given string\n",
    "print(f\"Making predictions from a {len(seq)} element long input\")\n",
    "\n",
    "vocabulary = infer_model.get_layer(\"text_vectorization\").get_vocabulary()\n",
    "index_word = dict(zip(range(len(vocabulary)), vocabulary))\n",
    "\n",
    "# Reset the state of the model initially\n",
    "infer_model.reset_states()\n",
    "\n",
    "# Define the inital state as all zeroes\n",
    "state_c = np.zeros(shape=(1,512))\n",
    "state_h = np.zeros(shape=(1,512))\n",
    "state_c_1 = np.zeros(shape=(1,256))\n",
    "state_h_1 = np.zeros(shape=(1,256))\n",
    "\n",
    "# Recursively update the model by assigning new state to state\n",
    "for c in seq:\n",
    "    out, state_c, state_h, state_c_1, state_h_1 = infer_model.predict([np.array([[c]]), state_c, state_h, state_c_1, state_h_1],\n",
    "                                                                      verbose=0)\n",
    "    \n",
    "# Get final prediction after feeding the input string\n",
    "wid = int(np.argmax(out[0], axis=-1).ravel())\n",
    "word = index_word[wid]\n",
    "text.append(word)\n",
    "\n",
    "# Define first input to generate text recursively from\n",
    "x = np.array([[word]])\n",
    "\n",
    "\n",
    "# Code listing 10.7\n",
    "for _ in range(500):\n",
    "    \n",
    "    # Get the next output and state\n",
    "    out, state_c, state_h, state_c_1, state_h_1  = infer_model.predict([x, state_c, state_h, state_c_1, state_h_1],\n",
    "                                                                       verbose=0)\n",
    "    \n",
    "    # Get the word id and the word from out\n",
    "    out_argsort = np.argsort(out[0], axis=-1).ravel()        \n",
    "    wid = int(out_argsort[-1])\n",
    "    word = index_word[wid]\n",
    "    \n",
    "    # If the word ends with space, we introduce a bit of randomness\n",
    "    # Essentially pick one of the top 3 outputs for that timestep depending on their likelihood\n",
    "    if word.endswith(' '):\n",
    "        if np.random.normal()>0.5:\n",
    "            width = 5\n",
    "            i = np.random.choice(list(range(-width,0)), p=out_argsort[-width:]/out_argsort[-width:].sum())    \n",
    "            wid = int(out_argsort[i])    \n",
    "            word = index_word[wid]\n",
    "            \n",
    "    # Append the prediction\n",
    "    text.append(word)\n",
    "    \n",
    "    # Recursively make the current prediction the next input\n",
    "    x = np.array([[word]])\n",
    "    \n",
    "# Print the final output    \n",
    "print('\\n')\n",
    "print('='*60)\n",
    "print(\"Final text: \")\n",
    "print(''.join(text))"
   ]
  },
  {
   "cell_type": "markdown",
   "id": "468a6e76-aff1-470d-9412-2e49efa60897",
   "metadata": {},
   "source": [
    "## Comparing to LSTMs with Peepholes and GRUs"
   ]
  },
  {
   "cell_type": "markdown",
   "id": "650c5841-8f21-476f-95da-295f1eb247b9",
   "metadata": {},
   "source": [
    "### Peephole LSTM\n",
    "\n",
    "- **LSTMs with peepholes:** Peepholes are essentially a way for the gates(input, forget, and output) to directly see the cell state, instead of waiting for the external hidden state."
   ]
  },
  {
   "cell_type": "code",
   "execution_count": 30,
   "id": "8acfd388-ec9f-4d4d-bff4-0cad9b327c78",
   "metadata": {
    "scrolled": true,
    "tags": []
   },
   "outputs": [
    {
     "name": "stderr",
     "output_type": "stream",
     "text": [
      "C:\\Users\\Amit Vikram Raj\\AppData\\Roaming\\Python\\Python310\\site-packages\\keras\\initializers\\initializers_v2.py:120: UserWarning: The initializer GlorotUniform is unseeded and being called multiple times, which will return identical values  each time (even if the initializer is unseeded). Please update your code to provide a seed to the initializer, or avoid using the same initalizer instance more than once.\n",
      "  warnings.warn(\n"
     ]
    },
    {
     "name": "stdout",
     "output_type": "stream",
     "text": [
      "Epoch 1/50\n",
      "49/49 [==============================] - 54s 1s/step - loss: 5.3624 - accuracy: 0.0313 - perplexity: 239.1196 - val_loss: 5.1134 - val_accuracy: 0.0391 - val_perplexity: 167.3458\n",
      "Epoch 2/50\n",
      "49/49 [==============================] - 51s 1s/step - loss: 5.1401 - accuracy: 0.0345 - perplexity: 172.3040 - val_loss: 5.0865 - val_accuracy: 0.0392 - val_perplexity: 162.9294\n",
      "Epoch 3/50\n",
      "49/49 [==============================] - 51s 1s/step - loss: 5.0139 - accuracy: 0.0445 - perplexity: 152.5794 - val_loss: 4.7779 - val_accuracy: 0.0802 - val_perplexity: 120.0449\n",
      "Epoch 4/50\n",
      "49/49 [==============================] - 51s 1s/step - loss: 4.6443 - accuracy: 0.0927 - perplexity: 106.2764 - val_loss: 4.3804 - val_accuracy: 0.1202 - val_perplexity: 80.9654\n",
      "Epoch 5/50\n",
      "49/49 [==============================] - 52s 1s/step - loss: 4.2924 - accuracy: 0.1298 - perplexity: 75.0071 - val_loss: 4.0563 - val_accuracy: 0.1619 - val_perplexity: 58.6471\n",
      "Epoch 6/50\n",
      "49/49 [==============================] - 51s 1s/step - loss: 4.0064 - accuracy: 0.1689 - perplexity: 56.3388 - val_loss: 3.8147 - val_accuracy: 0.1960 - val_perplexity: 46.1450\n",
      "Epoch 7/50\n",
      "49/49 [==============================] - 51s 1s/step - loss: 3.8141 - accuracy: 0.1983 - perplexity: 46.4493 - val_loss: 3.6602 - val_accuracy: 0.2193 - val_perplexity: 39.5751\n",
      "Epoch 8/50\n",
      "49/49 [==============================] - 52s 1s/step - loss: 3.6699 - accuracy: 0.2175 - perplexity: 40.2208 - val_loss: 3.5334 - val_accuracy: 0.2374 - val_perplexity: 34.9817\n",
      "Epoch 9/50\n",
      "49/49 [==============================] - 51s 1s/step - loss: 3.5610 - accuracy: 0.2322 - perplexity: 36.0941 - val_loss: 3.4268 - val_accuracy: 0.2479 - val_perplexity: 31.4873\n",
      "Epoch 10/50\n",
      "49/49 [==============================] - 51s 1s/step - loss: 3.4650 - accuracy: 0.2443 - perplexity: 32.8051 - val_loss: 3.3402 - val_accuracy: 0.2611 - val_perplexity: 28.9267\n",
      "Epoch 11/50\n",
      "49/49 [==============================] - 51s 1s/step - loss: 3.3815 - accuracy: 0.2558 - perplexity: 30.2027 - val_loss: 3.2653 - val_accuracy: 0.2721 - val_perplexity: 26.8366\n",
      "Epoch 12/50\n",
      "49/49 [==============================] - 51s 1s/step - loss: 3.3088 - accuracy: 0.2655 - perplexity: 28.1017 - val_loss: 3.1977 - val_accuracy: 0.2817 - val_perplexity: 25.1205\n",
      "Epoch 13/50\n",
      "49/49 [==============================] - 51s 1s/step - loss: 3.2417 - accuracy: 0.2745 - perplexity: 26.2921 - val_loss: 3.1362 - val_accuracy: 0.2907 - val_perplexity: 23.6704\n",
      "Epoch 14/50\n",
      "49/49 [==============================] - 51s 1s/step - loss: 3.1833 - accuracy: 0.2832 - perplexity: 24.8145 - val_loss: 3.0812 - val_accuracy: 0.2990 - val_perplexity: 22.4155\n",
      "Epoch 15/50\n",
      "49/49 [==============================] - 52s 1s/step - loss: 3.1275 - accuracy: 0.2914 - perplexity: 23.4725 - val_loss: 3.0338 - val_accuracy: 0.3059 - val_perplexity: 21.4177\n",
      "Epoch 16/50\n",
      "49/49 [==============================] - 55s 1s/step - loss: 3.0790 - accuracy: 0.2983 - perplexity: 22.3668 - val_loss: 2.9866 - val_accuracy: 0.3144 - val_perplexity: 20.4292\n",
      "Epoch 17/50\n",
      "49/49 [==============================] - 54s 1s/step - loss: 3.0363 - accuracy: 0.3048 - perplexity: 21.4414 - val_loss: 2.9477 - val_accuracy: 0.3209 - val_perplexity: 19.6799\n",
      "Epoch 18/50\n",
      "49/49 [==============================] - 51s 1s/step - loss: 2.9924 - accuracy: 0.3114 - perplexity: 20.5229 - val_loss: 2.9128 - val_accuracy: 0.3252 - val_perplexity: 19.0292\n",
      "Epoch 19/50\n",
      "49/49 [==============================] - 51s 1s/step - loss: 2.9553 - accuracy: 0.3169 - perplexity: 19.7785 - val_loss: 2.8813 - val_accuracy: 0.3310 - val_perplexity: 18.4609\n",
      "Epoch 20/50\n",
      "49/49 [==============================] - 52s 1s/step - loss: 2.9214 - accuracy: 0.3223 - perplexity: 19.1202 - val_loss: 2.8471 - val_accuracy: 0.3376 - val_perplexity: 17.8532\n",
      "Epoch 21/50\n",
      "49/49 [==============================] - 51s 1s/step - loss: 2.8849 - accuracy: 0.3285 - perplexity: 18.4384 - val_loss: 2.8124 - val_accuracy: 0.3424 - val_perplexity: 17.2397\n",
      "Epoch 22/50\n",
      "49/49 [==============================] - 52s 1s/step - loss: 2.8540 - accuracy: 0.3334 - perplexity: 17.8851 - val_loss: 2.7898 - val_accuracy: 0.3459 - val_perplexity: 16.8807\n",
      "Epoch 23/50\n",
      "49/49 [==============================] - 52s 1s/step - loss: 2.8257 - accuracy: 0.3380 - perplexity: 17.3829 - val_loss: 2.7604 - val_accuracy: 0.3510 - val_perplexity: 16.4073\n",
      "Epoch 24/50\n",
      "49/49 [==============================] - 53s 1s/step - loss: 2.7976 - accuracy: 0.3420 - perplexity: 16.9040 - val_loss: 2.7349 - val_accuracy: 0.3548 - val_perplexity: 15.9852\n",
      "Epoch 25/50\n",
      "49/49 [==============================] - 53s 1s/step - loss: 2.7727 - accuracy: 0.3461 - perplexity: 16.4942 - val_loss: 2.7148 - val_accuracy: 0.3594 - val_perplexity: 15.6807\n",
      "Epoch 26/50\n",
      "49/49 [==============================] - 52s 1s/step - loss: 2.7475 - accuracy: 0.3499 - perplexity: 16.0808 - val_loss: 2.6923 - val_accuracy: 0.3624 - val_perplexity: 15.3401\n",
      "Epoch 27/50\n",
      "49/49 [==============================] - 52s 1s/step - loss: 2.7239 - accuracy: 0.3538 - perplexity: 15.7048 - val_loss: 2.6736 - val_accuracy: 0.3667 - val_perplexity: 15.0530\n",
      "Epoch 28/50\n",
      "49/49 [==============================] - 52s 1s/step - loss: 2.7013 - accuracy: 0.3577 - perplexity: 15.3557 - val_loss: 2.6556 - val_accuracy: 0.3695 - val_perplexity: 14.7954\n",
      "Epoch 29/50\n",
      "49/49 [==============================] - 52s 1s/step - loss: 2.6801 - accuracy: 0.3602 - perplexity: 15.0293 - val_loss: 2.6374 - val_accuracy: 0.3731 - val_perplexity: 14.5580\n",
      "Epoch 30/50\n",
      "49/49 [==============================] - 52s 1s/step - loss: 2.6610 - accuracy: 0.3638 - perplexity: 14.7510 - val_loss: 2.6211 - val_accuracy: 0.3766 - val_perplexity: 14.3065\n",
      "Epoch 31/50\n",
      "49/49 [==============================] - 52s 1s/step - loss: 2.6402 - accuracy: 0.3672 - perplexity: 14.4421 - val_loss: 2.6046 - val_accuracy: 0.3797 - val_perplexity: 14.0522\n",
      "Epoch 32/50\n",
      "49/49 [==============================] - 53s 1s/step - loss: 2.6207 - accuracy: 0.3705 - perplexity: 14.1628 - val_loss: 2.5957 - val_accuracy: 0.3802 - val_perplexity: 13.9584\n",
      "Epoch 33/50\n",
      "49/49 [==============================] - 52s 1s/step - loss: 2.6038 - accuracy: 0.3730 - perplexity: 13.9290 - val_loss: 2.5792 - val_accuracy: 0.3836 - val_perplexity: 13.7150\n",
      "Epoch 34/50\n",
      "49/49 [==============================] - 52s 1s/step - loss: 2.5878 - accuracy: 0.3748 - perplexity: 13.7057 - val_loss: 2.5628 - val_accuracy: 0.3871 - val_perplexity: 13.5321\n",
      "Epoch 35/50\n",
      "49/49 [==============================] - 51s 1s/step - loss: 2.5703 - accuracy: 0.3775 - perplexity: 13.4680 - val_loss: 2.5517 - val_accuracy: 0.3892 - val_perplexity: 13.3757\n",
      "Epoch 36/50\n",
      "49/49 [==============================] - 52s 1s/step - loss: 2.5535 - accuracy: 0.3802 - perplexity: 13.2407 - val_loss: 2.5387 - val_accuracy: 0.3908 - val_perplexity: 13.2072\n",
      "Epoch 37/50\n",
      "49/49 [==============================] - 52s 1s/step - loss: 2.5364 - accuracy: 0.3828 - perplexity: 13.0124 - val_loss: 2.5259 - val_accuracy: 0.3921 - val_perplexity: 13.0419\n",
      "Epoch 38/50\n",
      "49/49 [==============================] - 52s 1s/step - loss: 2.5230 - accuracy: 0.3853 - perplexity: 12.8368 - val_loss: 2.5145 - val_accuracy: 0.3945 - val_perplexity: 12.8938\n",
      "Epoch 39/50\n",
      "49/49 [==============================] - 52s 1s/step - loss: 2.5095 - accuracy: 0.3871 - perplexity: 12.6652 - val_loss: 2.5064 - val_accuracy: 0.3961 - val_perplexity: 12.7993\n",
      "Epoch 40/50\n",
      "49/49 [==============================] - 60s 1s/step - loss: 2.4956 - accuracy: 0.3891 - perplexity: 12.4918 - val_loss: 2.4923 - val_accuracy: 0.3987 - val_perplexity: 12.6190\n",
      "Epoch 41/50\n",
      "49/49 [==============================] - 57s 1s/step - loss: 2.4816 - accuracy: 0.3915 - perplexity: 12.3121 - val_loss: 2.4863 - val_accuracy: 0.3991 - val_perplexity: 12.5559\n",
      "Epoch 42/50\n",
      "49/49 [==============================] - 52s 1s/step - loss: 2.4686 - accuracy: 0.3935 - perplexity: 12.1548 - val_loss: 2.4750 - val_accuracy: 0.4016 - val_perplexity: 12.4162\n",
      "Epoch 43/50\n",
      "49/49 [==============================] - 51s 1s/step - loss: 2.4561 - accuracy: 0.3953 - perplexity: 12.0031 - val_loss: 2.4673 - val_accuracy: 0.4030 - val_perplexity: 12.3150\n",
      "Epoch 44/50\n",
      "49/49 [==============================] - 52s 1s/step - loss: 2.4438 - accuracy: 0.3981 - perplexity: 11.8507 - val_loss: 2.4608 - val_accuracy: 0.4046 - val_perplexity: 12.2487\n",
      "Epoch 45/50\n",
      "49/49 [==============================] - 52s 1s/step - loss: 2.4321 - accuracy: 0.3990 - perplexity: 11.7096 - val_loss: 2.4534 - val_accuracy: 0.4052 - val_perplexity: 12.1637\n",
      "Epoch 46/50\n",
      "49/49 [==============================] - 52s 1s/step - loss: 2.4213 - accuracy: 0.4010 - perplexity: 11.5837 - val_loss: 2.4403 - val_accuracy: 0.4076 - val_perplexity: 11.9959\n",
      "Epoch 47/50\n",
      "49/49 [==============================] - 52s 1s/step - loss: 2.4079 - accuracy: 0.4032 - perplexity: 11.4298 - val_loss: 2.4351 - val_accuracy: 0.4089 - val_perplexity: 11.9417\n",
      "Epoch 48/50\n",
      "49/49 [==============================] - 51s 1s/step - loss: 2.3983 - accuracy: 0.4045 - perplexity: 11.3185 - val_loss: 2.4298 - val_accuracy: 0.4112 - val_perplexity: 11.8895\n",
      "Epoch 49/50\n",
      "49/49 [==============================] - 51s 1s/step - loss: 2.3867 - accuracy: 0.4067 - perplexity: 11.1861 - val_loss: 2.4217 - val_accuracy: 0.4110 - val_perplexity: 11.7880\n",
      "Epoch 50/50\n",
      "49/49 [==============================] - 52s 1s/step - loss: 2.3753 - accuracy: 0.4084 - perplexity: 11.0575 - val_loss: 2.4155 - val_accuracy: 0.4124 - val_perplexity: 11.7232\n"
     ]
    }
   ],
   "source": [
    "import tensorflow.keras.backend as K\n",
    "import tensorflow_addons as tfa\n",
    "import tensorflow.keras.layers as layers\n",
    "import tensorflow.keras.models as models\n",
    "\n",
    "K.clear_session()\n",
    "tf.compat.v1.reset_default_graph()\n",
    "\n",
    "ngram_length = 2\n",
    "batch_size = 128\n",
    "window_size = 128\n",
    "\n",
    "train_ds = generate_tf_dataset(train_filenames, ngram_length, window_size, batch_size, shuffle=True)\n",
    "valid_ds = generate_tf_dataset(valid_filenames, ngram_length, window_size, batch_size)\n",
    "\n",
    "\n",
    "# The vectorization layer that will convert string bigrams to IDs\n",
    "text_vectorizer = tf.keras.layers.TextVectorization(\n",
    "    max_tokens=n_vocab, standardize=None,\n",
    "    split=None, input_shape=(window_size,)\n",
    ")\n",
    "\n",
    "# Train the model on existing data\n",
    "text_vectorizer.adapt(train_ds)\n",
    "\n",
    "lm_peephole_model = models.Sequential([\n",
    "                        text_vectorizer,\n",
    "                        layers.Embedding(n_vocab+2, 96),\n",
    "                        layers.RNN(tfa.rnn.PeepholeLSTMCell(512), return_sequences=True),\n",
    "                        layers.RNN(tfa.rnn.PeepholeLSTMCell(256), return_sequences=True),\n",
    "                        layers.Dense(1024, activation='relu'),\n",
    "                        layers.Dropout(0.5),\n",
    "                        layers.Dense(n_vocab, activation='softmax')\n",
    "                    ])\n",
    "\n",
    "lm_peephole_model.compile(loss='sparse_categorical_crossentropy', optimizer='adam', metrics=['accuracy', PerplexityMetric()])\n",
    "\n",
    "train_ds = train_ds.map(lambda x, y: (x, text_vectorizer(y)))\n",
    "valid_ds = valid_ds.map(lambda x, y: (x, text_vectorizer(y)))\n",
    "\n",
    "lstm_peephole_history = lm_peephole_model.fit(train_ds, \n",
    "                                              validation_data=valid_ds, \n",
    "                                              epochs=50, workers=10)"
   ]
  },
  {
   "cell_type": "markdown",
   "id": "1dad7712-e0c3-491d-a647-b00e4f63a559",
   "metadata": {},
   "source": [
    "### GRU"
   ]
  },
  {
   "cell_type": "code",
   "execution_count": 31,
   "id": "9610fcbc-02ad-4eda-90b5-f6d7a3284de2",
   "metadata": {
    "scrolled": true,
    "tags": []
   },
   "outputs": [
    {
     "name": "stdout",
     "output_type": "stream",
     "text": [
      "Epoch 1/50\n",
      "49/49 [==============================] - 9s 101ms/step - loss: 5.4468 - accuracy: 0.0312 - perplexity: 263.8390 - val_loss: 5.1066 - val_accuracy: 0.0324 - val_perplexity: 166.2203\n",
      "Epoch 2/50\n",
      "49/49 [==============================] - 5s 89ms/step - loss: 5.0813 - accuracy: 0.0374 - perplexity: 162.7767 - val_loss: 4.9028 - val_accuracy: 0.0628 - val_perplexity: 135.9576\n",
      "Epoch 3/50\n",
      "49/49 [==============================] - 4s 86ms/step - loss: 4.5735 - accuracy: 0.1006 - perplexity: 100.9301 - val_loss: 4.1216 - val_accuracy: 0.1661 - val_perplexity: 62.7028\n",
      "Epoch 4/50\n",
      "49/49 [==============================] - 5s 90ms/step - loss: 3.9123 - accuracy: 0.1928 - perplexity: 51.9634 - val_loss: 3.5810 - val_accuracy: 0.2372 - val_perplexity: 36.6991\n",
      "Epoch 5/50\n",
      "49/49 [==============================] - 5s 87ms/step - loss: 3.5360 - accuracy: 0.2413 - perplexity: 35.3337 - val_loss: 3.3286 - val_accuracy: 0.2666 - val_perplexity: 28.6313\n",
      "Epoch 6/50\n",
      "49/49 [==============================] - 5s 88ms/step - loss: 3.3210 - accuracy: 0.2678 - perplexity: 28.5111 - val_loss: 3.1464 - val_accuracy: 0.2932 - val_perplexity: 23.9264\n",
      "Epoch 7/50\n",
      "49/49 [==============================] - 5s 87ms/step - loss: 3.1590 - accuracy: 0.2904 - perplexity: 24.2734 - val_loss: 3.0097 - val_accuracy: 0.3124 - val_perplexity: 20.9136\n",
      "Epoch 8/50\n",
      "49/49 [==============================] - 5s 89ms/step - loss: 3.0320 - accuracy: 0.3088 - perplexity: 21.3899 - val_loss: 2.8958 - val_accuracy: 0.3302 - val_perplexity: 18.7116\n",
      "Epoch 9/50\n",
      "49/49 [==============================] - 5s 88ms/step - loss: 2.9254 - accuracy: 0.3249 - perplexity: 19.2445 - val_loss: 2.8064 - val_accuracy: 0.3461 - val_perplexity: 17.1533\n",
      "Epoch 10/50\n",
      "49/49 [==============================] - 5s 89ms/step - loss: 2.8316 - accuracy: 0.3396 - perplexity: 17.5310 - val_loss: 2.7291 - val_accuracy: 0.3578 - val_perplexity: 15.8892\n",
      "Epoch 11/50\n",
      "49/49 [==============================] - 5s 89ms/step - loss: 2.7538 - accuracy: 0.3519 - perplexity: 16.2178 - val_loss: 2.6665 - val_accuracy: 0.3704 - val_perplexity: 14.9550\n",
      "Epoch 12/50\n",
      "49/49 [==============================] - 5s 88ms/step - loss: 2.6848 - accuracy: 0.3628 - perplexity: 15.1374 - val_loss: 2.6104 - val_accuracy: 0.3784 - val_perplexity: 14.1191\n",
      "Epoch 13/50\n",
      "49/49 [==============================] - 5s 89ms/step - loss: 2.6237 - accuracy: 0.3724 - perplexity: 14.2359 - val_loss: 2.5623 - val_accuracy: 0.3874 - val_perplexity: 13.4661\n",
      "Epoch 14/50\n",
      "49/49 [==============================] - 5s 88ms/step - loss: 2.5723 - accuracy: 0.3805 - perplexity: 13.5126 - val_loss: 2.5243 - val_accuracy: 0.3936 - val_perplexity: 12.9751\n",
      "Epoch 15/50\n",
      "49/49 [==============================] - 5s 90ms/step - loss: 2.5258 - accuracy: 0.3876 - perplexity: 12.8889 - val_loss: 2.4913 - val_accuracy: 0.3994 - val_perplexity: 12.5682\n",
      "Epoch 16/50\n",
      "49/49 [==============================] - 5s 88ms/step - loss: 2.4836 - accuracy: 0.3952 - perplexity: 12.3569 - val_loss: 2.4622 - val_accuracy: 0.4038 - val_perplexity: 12.1970\n",
      "Epoch 17/50\n",
      "49/49 [==============================] - 5s 90ms/step - loss: 2.4448 - accuracy: 0.4012 - perplexity: 11.8809 - val_loss: 2.4361 - val_accuracy: 0.4077 - val_perplexity: 11.8958\n",
      "Epoch 18/50\n",
      "49/49 [==============================] - 5s 89ms/step - loss: 2.4097 - accuracy: 0.4067 - perplexity: 11.4669 - val_loss: 2.4142 - val_accuracy: 0.4129 - val_perplexity: 11.6357\n",
      "Epoch 19/50\n",
      "49/49 [==============================] - 5s 90ms/step - loss: 2.3790 - accuracy: 0.4117 - perplexity: 11.1135 - val_loss: 2.3989 - val_accuracy: 0.4159 - val_perplexity: 11.4763\n",
      "Epoch 20/50\n",
      "49/49 [==============================] - 5s 88ms/step - loss: 2.3473 - accuracy: 0.4164 - perplexity: 10.7603 - val_loss: 2.3808 - val_accuracy: 0.4199 - val_perplexity: 11.2801\n",
      "Epoch 21/50\n",
      "49/49 [==============================] - 5s 87ms/step - loss: 2.3210 - accuracy: 0.4211 - perplexity: 10.4751 - val_loss: 2.3632 - val_accuracy: 0.4228 - val_perplexity: 11.0543\n",
      "Epoch 22/50\n",
      "49/49 [==============================] - 5s 87ms/step - loss: 2.2938 - accuracy: 0.4257 - perplexity: 10.1870 - val_loss: 2.3488 - val_accuracy: 0.4270 - val_perplexity: 10.9234\n",
      "Epoch 23/50\n",
      "49/49 [==============================] - 5s 87ms/step - loss: 2.2673 - accuracy: 0.4303 - perplexity: 9.9143 - val_loss: 2.3424 - val_accuracy: 0.4280 - val_perplexity: 10.8839\n",
      "Epoch 24/50\n",
      "49/49 [==============================] - 5s 87ms/step - loss: 2.2439 - accuracy: 0.4341 - perplexity: 9.6824 - val_loss: 2.3277 - val_accuracy: 0.4314 - val_perplexity: 10.6972\n",
      "Epoch 25/50\n",
      "49/49 [==============================] - 4s 86ms/step - loss: 2.2213 - accuracy: 0.4381 - perplexity: 9.4611 - val_loss: 2.3214 - val_accuracy: 0.4337 - val_perplexity: 10.6709\n",
      "Epoch 26/50\n",
      "49/49 [==============================] - 5s 87ms/step - loss: 2.1983 - accuracy: 0.4418 - perplexity: 9.2416 - val_loss: 2.3133 - val_accuracy: 0.4349 - val_perplexity: 10.5798\n",
      "Epoch 27/50\n",
      "49/49 [==============================] - 4s 85ms/step - loss: 2.1763 - accuracy: 0.4454 - perplexity: 9.0371 - val_loss: 2.3014 - val_accuracy: 0.4386 - val_perplexity: 10.4512\n",
      "Epoch 28/50\n",
      "49/49 [==============================] - 5s 87ms/step - loss: 2.1562 - accuracy: 0.4494 - perplexity: 8.8538 - val_loss: 2.2953 - val_accuracy: 0.4392 - val_perplexity: 10.3919\n",
      "Epoch 29/50\n",
      "49/49 [==============================] - 4s 85ms/step - loss: 2.1336 - accuracy: 0.4531 - perplexity: 8.6501 - val_loss: 2.2935 - val_accuracy: 0.4409 - val_perplexity: 10.3923\n",
      "Epoch 30/50\n",
      "49/49 [==============================] - 5s 87ms/step - loss: 2.1127 - accuracy: 0.4564 - perplexity: 8.4665 - val_loss: 2.2887 - val_accuracy: 0.4408 - val_perplexity: 10.3602\n",
      "Epoch 31/50\n",
      "49/49 [==============================] - 5s 87ms/step - loss: 2.0932 - accuracy: 0.4599 - perplexity: 8.2999 - val_loss: 2.2956 - val_accuracy: 0.4420 - val_perplexity: 10.4583\n",
      "Epoch 32/50\n",
      "49/49 [==============================] - 5s 87ms/step - loss: 2.0725 - accuracy: 0.4631 - perplexity: 8.1251 - val_loss: 2.2892 - val_accuracy: 0.4440 - val_perplexity: 10.3840\n",
      "Epoch 33/50\n",
      "49/49 [==============================] - 5s 86ms/step - loss: 2.0507 - accuracy: 0.4672 - perplexity: 7.9480 - val_loss: 2.2887 - val_accuracy: 0.4452 - val_perplexity: 10.4015\n",
      "Epoch 34/50\n",
      "49/49 [==============================] - 5s 87ms/step - loss: 2.0305 - accuracy: 0.4707 - perplexity: 7.7836 - val_loss: 2.2929 - val_accuracy: 0.4444 - val_perplexity: 10.4599\n",
      "Epoch 35/50\n",
      "49/49 [==============================] - 5s 87ms/step - loss: 2.0125 - accuracy: 0.4744 - perplexity: 7.6449 - val_loss: 2.2840 - val_accuracy: 0.4464 - val_perplexity: 10.3512\n",
      "Epoch 36/50\n",
      "49/49 [==============================] - 5s 86ms/step - loss: 1.9901 - accuracy: 0.4782 - perplexity: 7.4722 - val_loss: 2.2861 - val_accuracy: 0.4466 - val_perplexity: 10.3939\n",
      "Epoch 37/50\n",
      "49/49 [==============================] - 5s 87ms/step - loss: 1.9703 - accuracy: 0.4827 - perplexity: 7.3238 - val_loss: 2.2919 - val_accuracy: 0.4456 - val_perplexity: 10.4479\n",
      "Epoch 38/50\n",
      "49/49 [==============================] - 4s 86ms/step - loss: 1.9496 - accuracy: 0.4855 - perplexity: 7.1671 - val_loss: 2.2930 - val_accuracy: 0.4480 - val_perplexity: 10.4826\n",
      "Epoch 39/50\n",
      "49/49 [==============================] - 5s 86ms/step - loss: 1.9295 - accuracy: 0.4898 - perplexity: 7.0240 - val_loss: 2.2931 - val_accuracy: 0.4474 - val_perplexity: 10.4843\n",
      "Epoch 40/50\n",
      "49/49 [==============================] - 4s 86ms/step - loss: 1.9065 - accuracy: 0.4943 - perplexity: 6.8608 - val_loss: 2.3031 - val_accuracy: 0.4463 - val_perplexity: 10.6230\n",
      "Epoch 41/50\n",
      "49/49 [==============================] - 4s 86ms/step - loss: 1.8848 - accuracy: 0.4987 - perplexity: 6.7098 - val_loss: 2.3083 - val_accuracy: 0.4466 - val_perplexity: 10.6787\n",
      "Epoch 42/50\n",
      "49/49 [==============================] - 5s 86ms/step - loss: 1.8644 - accuracy: 0.5022 - perplexity: 6.5728 - val_loss: 2.3303 - val_accuracy: 0.4465 - val_perplexity: 10.9917\n",
      "Epoch 43/50\n",
      "49/49 [==============================] - 4s 86ms/step - loss: 1.8436 - accuracy: 0.5063 - perplexity: 6.4344 - val_loss: 2.3272 - val_accuracy: 0.4449 - val_perplexity: 10.9232\n",
      "Epoch 44/50\n",
      "49/49 [==============================] - 5s 88ms/step - loss: 1.8211 - accuracy: 0.5110 - perplexity: 6.2893 - val_loss: 2.3435 - val_accuracy: 0.4467 - val_perplexity: 11.1621\n",
      "Epoch 45/50\n",
      "49/49 [==============================] - 5s 87ms/step - loss: 1.7975 - accuracy: 0.5157 - perplexity: 6.1381 - val_loss: 2.3629 - val_accuracy: 0.4460 - val_perplexity: 11.4376\n",
      "Epoch 46/50\n",
      "49/49 [==============================] - 5s 87ms/step - loss: 1.7770 - accuracy: 0.5195 - perplexity: 6.0128 - val_loss: 2.3614 - val_accuracy: 0.4459 - val_perplexity: 11.3786\n",
      "Epoch 47/50\n",
      "49/49 [==============================] - 5s 87ms/step - loss: 1.7538 - accuracy: 0.5244 - perplexity: 5.8734 - val_loss: 2.3787 - val_accuracy: 0.4437 - val_perplexity: 11.6078\n",
      "Epoch 48/50\n",
      "49/49 [==============================] - 5s 87ms/step - loss: 1.7305 - accuracy: 0.5291 - perplexity: 5.7353 - val_loss: 2.4158 - val_accuracy: 0.4459 - val_perplexity: 12.1516\n",
      "Epoch 49/50\n",
      "49/49 [==============================] - 5s 87ms/step - loss: 1.7083 - accuracy: 0.5329 - perplexity: 5.6075 - val_loss: 2.4049 - val_accuracy: 0.4429 - val_perplexity: 11.9796\n",
      "Epoch 50/50\n",
      "49/49 [==============================] - 5s 87ms/step - loss: 1.6861 - accuracy: 0.5383 - perplexity: 5.4835 - val_loss: 2.4385 - val_accuracy: 0.4419 - val_perplexity: 12.4589\n"
     ]
    }
   ],
   "source": [
    "import tensorflow.keras.backend as K\n",
    "# import tensorflow_addons as tfa\n",
    "import tensorflow.keras.layers as layers\n",
    "import tensorflow.keras.models as models\n",
    "\n",
    "K.clear_session()\n",
    "tf.compat.v1.reset_default_graph()\n",
    "\n",
    "ngram_length = 2\n",
    "batch_size = 128\n",
    "window_size = 128\n",
    "\n",
    "train_ds = generate_tf_dataset(train_filenames, ngram_length, window_size, batch_size, shuffle=True)\n",
    "valid_ds = generate_tf_dataset(valid_filenames, ngram_length, window_size, batch_size)\n",
    "\n",
    "\n",
    "# The vectorization layer that will convert string bigrams to IDs\n",
    "text_vectorizer = tf.keras.layers.TextVectorization(\n",
    "    max_tokens=n_vocab, standardize=None,\n",
    "    split=None, input_shape=(window_size,)\n",
    ")\n",
    "\n",
    "# Train the model on existing data\n",
    "text_vectorizer.adapt(train_ds)\n",
    "\n",
    "lm_gru_model = models.Sequential([\n",
    "    text_vectorizer,\n",
    "    layers.Embedding(n_vocab+2, 96),\n",
    "    layers.GRU(512, return_sequences=True),\n",
    "    layers.GRU(256, return_sequences=True),\n",
    "    layers.Dense(1024, activation='relu'),\n",
    "    layers.Dropout(0.5),\n",
    "    layers.Dense(n_vocab, activation='softmax')\n",
    "])\n",
    "\n",
    "lm_gru_model.compile(loss='sparse_categorical_crossentropy', \n",
    "                     optimizer='adam', \n",
    "                     metrics=['accuracy', PerplexityMetric()])\n",
    "\n",
    "train_ds = train_ds.map(lambda x, y: (x, text_vectorizer(y)))\n",
    "valid_ds = valid_ds.map(lambda x, y: (x, text_vectorizer(y)))\n",
    "\n",
    "gru_history = lm_gru_model.fit(train_ds, validation_data=valid_ds, epochs=50)"
   ]
  },
  {
   "cell_type": "markdown",
   "id": "b9912957-d1f9-4fee-b6b5-a7528ab1985c",
   "metadata": {},
   "source": [
    "## Running Training, Validation and Generation\n",
    "We traing the LSTM on existing training data, check the validaiton perplexity on an unseen chunk of text and generate a fresh segment of text"
   ]
  },
  {
   "cell_type": "code",
   "execution_count": 32,
   "id": "5b854668-7c17-4821-9663-b107d9808f3f",
   "metadata": {
    "tags": []
   },
   "outputs": [
    {
     "data": {
      "text/plain": [
       "Text(0, 0.5, 'Perplexity')"
      ]
     },
     "execution_count": 32,
     "metadata": {},
     "output_type": "execute_result"
    },
    {
     "data": {
      "image/png": "[encoded data removed]",
      "text/plain": [
       "<Figure size 1200x600 with 1 Axes>"
      ]
     },
     "metadata": {},
     "output_type": "display_data"
    }
   ],
   "source": [
    "import matplotlib.pyplot as plt\n",
    "%matplotlib inline\n",
    "\n",
    "# Plots without the Word2vec related results\n",
    "plt.figure(figsize=(12, 6)) \n",
    "k = 5\n",
    "\n",
    "for model_name, history, marker, color in zip(\n",
    "    ['LSTM', 'LSTM (Peephole)', 'GRU'], \n",
    "    [lstm_history, lstm_peephole_history, gru_history],\n",
    "    ['o', '+', 'x'],\n",
    "    ['red', 'green', 'blue']\n",
    "):\n",
    "    \n",
    "    train_perplexity = history.history[\"perplexity\"][k:]\n",
    "    val_perplexity = history.history[\"val_perplexity\"][k:]\n",
    "    \n",
    "    # Plot the training perplexities\n",
    "    plt.plot(np.arange(k,len(train_perplexity)+k), \n",
    "               train_perplexity, marker=marker, markersize=6, linestyle='--' , color=color,\n",
    "               label = model_name)\n",
    "    \n",
    "    plt.plot(np.arange(k, len(val_perplexity)+k), \n",
    "           val_perplexity, marker=marker, markersize=6, color=color,\n",
    "           label = model_name+'_valid')\n",
    "\n",
    "plt.legend(loc=1,fontsize=16)\n",
    "plt.title('Train/Valid perplexity behavior for various sequential models',fontsize=18)\n",
    "plt.ylabel('Perplexity',fontsize=18)"
   ]
  },
  {
   "cell_type": "markdown",
   "id": "6aa617da-64fd-43e9-a56f-b990cb3e3db7",
   "metadata": {},
   "source": [
    "## LSTM with Beam-Search\n",
    "\n",
    "Here we alter the previously defined prediction related TensorFlow operations to employ beam-search. \n",
    "\n",
    "Beam search is a way of predicting several time steps ahead. Concretely instead of predicting the best prediction we have at a given time step, we get predictions for several time steps and get the sequence of highest joint probability."
   ]
  },
  {
   "cell_type": "code",
   "execution_count": 35,
   "id": "c0220081-3744-4b21-8c8a-017a7560ea46",
   "metadata": {
    "tags": []
   },
   "outputs": [],
   "source": [
    "def beam_one_step(model, input_, states): \n",
    "    \"\"\" Perform the model update and output for one step\"\"\"\n",
    "    out = model.predict([input_, *states], verbose=0)\n",
    "    output, new_states = out[0], out[1:]\n",
    "    return output, new_states\n",
    "\n",
    "\n",
    "def beam_search(model, input_, states, beam_depth=5, beam_width=3):\n",
    "    \"\"\" Defines an outer wrapper for the computational function of beam search \"\"\"\n",
    "    \n",
    "    vocabulary = infer_model.get_layer(\"text_vectorization\").get_vocabulary()\n",
    "    index_word = dict(zip(range(len(vocabulary)), vocabulary))\n",
    "\n",
    "    def recursive_fn(input_, states, sequence, log_prob, i):\n",
    "        \"\"\" This function performs actual recursive computation of the long string\"\"\"\n",
    "        \n",
    "        if i == beam_depth:\n",
    "            \"\"\" Base case: Terminate the beam search \"\"\"\n",
    "            results.append((list(sequence), states, np.exp(log_prob)))            \n",
    "            return sequence, log_prob, states\n",
    "        else:\n",
    "            \"\"\" Recursive case: Keep computing the output using the previous outputs\"\"\"\n",
    "            output, new_states = beam_one_step(model, input_, states)\n",
    "            \n",
    "            # Get the top beam_widht candidates for the given depth\n",
    "            top_probs, top_ids = tf.nn.top_k(output, k=beam_width)\n",
    "            top_probs, top_ids = top_probs.numpy().ravel(), top_ids.numpy().ravel()\n",
    "            \n",
    "            # For each candidate compute the next prediction\n",
    "            for p, wid in zip(top_probs, top_ids):                \n",
    "                new_log_prob = log_prob + np.log(p)\n",
    "                \n",
    "                # we are going to penalize joint probability whenever the same symbol is repeating\n",
    "                if len(sequence)>0 and wid == sequence[-1]:\n",
    "                    new_log_prob = new_log_prob + np.log(1e-1)\n",
    "                    \n",
    "                sequence.append(wid)                \n",
    "                _ = recursive_fn(np.array([[index_word[wid]]]), new_states, sequence, new_log_prob, i+1)                                         \n",
    "                sequence.pop()\n",
    "        \n",
    "    \n",
    "    results = []\n",
    "    sequence = []\n",
    "    log_prob = 0.0\n",
    "    recursive_fn(input_, states, sequence, log_prob, 0)    \n",
    "\n",
    "    results = sorted(results, key=lambda x: x[2], reverse=True)\n",
    "\n",
    "    return results"
   ]
  },
  {
   "cell_type": "code",
   "execution_count": null,
   "id": "0540fa02-bc2e-4eff-8060-c949e11e7588",
   "metadata": {
    "scrolled": true,
    "tags": []
   },
   "outputs": [
    {
     "name": "stdout",
     "output_type": "stream",
     "text": [
      "Making 58 predictions from input\n",
      ".................................................."
     ]
    }
   ],
   "source": [
    "text = [\"When adam and eve were driven out of paradise, they were compelled to build a house for themselves on barren ground\"]\n",
    "\n",
    "vocabulary = infer_model.get_layer(\"text_vectorization\").get_vocabulary()\n",
    "index_word = dict(zip(range(len(vocabulary)), vocabulary))\n",
    "\n",
    "\n",
    "seq = [text[0][i:i+2] for i in range(0, len(text[0]), 2)]\n",
    "\n",
    "# build up model state using the given string\n",
    "print(f\"Making {len(seq)} predictions from input\")\n",
    "\n",
    "\n",
    "# Reset the state of the model initially\n",
    "lm_model.reset_states()\n",
    "\n",
    "# Definin the initial state as all zeros\n",
    "state_c = np.zeros(shape=(1,512))\n",
    "state_h = np.zeros(shape=(1,512))\n",
    "state_c_1 = np.zeros(shape=(1,256))\n",
    "state_h_1 = np.zeros(shape=(1,256))\n",
    "\n",
    "states = [state_c, state_h, state_c_1, state_h_1]\n",
    "\n",
    "# Recursively update the model by assining new state to state\n",
    "for c in seq:    \n",
    "    out, state_c, state_h, state_c_1, state_h_1 = infer_model.predict(\n",
    "        [np.array([[c]]), state_c, state_h, state_c_1, state_h_1], verbose=0\n",
    ")\n",
    "\n",
    "# Get final prediction after feeding the input string\n",
    "wid = int(np.argmax(out[0],axis=-1).ravel())\n",
    "word = index_word[wid]\n",
    "text.append(word)\n",
    "\n",
    "# Define first input to generate text recursively from\n",
    "x = np.array([[word]])\n",
    "\n",
    "# Predict for 100 time steps\n",
    "for i in range(50):    \n",
    "    print('.', end='')\n",
    "    \n",
    "    # Get the results from beam search\n",
    "    result = beam_search(infer_model, x, states, 5, 5)\n",
    "    \n",
    "    # Get one of the top 10 results based on their likelihood\n",
    "    n_probs = np.array([p for _,_,p in result[:10]])\n",
    "    p_j = np.random.choice(list(range(n_probs.size)), p=n_probs/n_probs.sum())                    \n",
    "    best_beam_ids, states, _ = result[p_j]\n",
    "    x = np.array([[index_word[best_beam_ids[-1]]]])\n",
    "            \n",
    "    text.extend([index_word[w] for w in best_beam_ids])    \n",
    "\n",
    "print('\\n')\n",
    "print('='*60)\n",
    "print(\"Final text: \")\n",
    "print(''.join(text))"
   ]
  },
  {
   "cell_type": "code",
   "execution_count": null,
   "id": "e1d889eb-770a-4e81-a052-9a1eeda2bbf8",
   "metadata": {},
   "outputs": [],
   "source": []
  },
  {
   "cell_type": "code",
   "execution_count": null,
   "id": "daeba201-09f5-49cd-8bb9-7b0a5a43973d",
   "metadata": {},
   "outputs": [],
   "source": []
  },
  {
   "cell_type": "code",
   "execution_count": null,
   "id": "4cbd1540-9175-4c38-a102-20fb34d364da",
   "metadata": {},
   "outputs": [],
   "source": []
  }
 ],
 "metadata": {
  "kernelspec": {
   "display_name": "Python 3 (ipykernel)",
   "language": "python",
   "name": "python3"
  },
  "language_info": {
   "codemirror_mode": {
    "name": "ipython",
    "version": 3
   },
   "file_extension": ".py",
   "mimetype": "text/x-python",
   "name": "python",
   "nbconvert_exporter": "python",
   "pygments_lexer": "ipython3",
   "version": "3.10.9"
  },
  "widgets": {
   "application/vnd.jupyter.widget-state+json": {
    "state": {},
    "version_major": 2,
    "version_minor": 0
   }
  }
 },
 "nbformat": 4,
 "nbformat_minor": 5
}
